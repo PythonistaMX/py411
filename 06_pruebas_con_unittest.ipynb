{
 "cells": [
  {
   "cell_type": "markdown",
   "metadata": {},
   "source": [
    "<a href=\"https://pythonista.io\"> <img src=\"img/pythonista.png\"></a>"
   ]
  },
  {
   "cell_type": "markdown",
   "metadata": {},
   "source": [
    "# Pruebas con ```unittest```."
   ]
  },
  {
   "cell_type": "markdown",
   "metadata": {},
   "source": [
    "El paquete ```unittest``` es un paquete que se encuentra incluído en la biblioteca estándar de *Python* y está inspirado en [*Junit*](https://junit.org/), de tal forma que permite crear clases cuyos métodos pueden ser definidos como pruebas específicas. \n",
    "\n",
    "https://docs.python.org/3/library/unittest.html"
   ]
  },
  {
   "cell_type": "code",
   "execution_count": null,
   "metadata": {},
   "outputs": [],
   "source": [
    "import unittest"
   ]
  },
  {
   "cell_type": "markdown",
   "metadata": {},
   "source": [
    "## La clase ```unittest.TestCase```.\n",
    "\n",
    "El componente principal del paquete ```uinttest``` es la clase ```unittest. TestCase``` a partir de la cual se pueden desarrollar subclases cuyo métodos son pruebas específicas."
   ]
  },
  {
   "cell_type": "markdown",
   "metadata": {},
   "source": [
    "### Algunos métodos útiles de la clase ```unittest.TestCase```.\n",
    "\n",
    "La clase ```unittest.TestCase``` contiene varios métodos que validan cierta condición específica. En caso de que dicha condición no se cumpla, se desencadenará una excepción de tipo ```AssertionError```."
   ]
  },
  {
   "cell_type": "markdown",
   "metadata": {},
   "source": [
    "|Método|Validación|\n",
    "|:----:|:----------:|\n",
    "| ```assertEqual(a, b)```|```a == b```|\n",
    "|```assertNotEqual(a, b)```|```a != b```|\n",
    "|```assertTrue(x)```|```bool(x) is True```|\n",
    "|```assertFalse(x)```|```bool(x) is False```|\n",
    "|```assertIs(a, b)```|```a is b```|\n",
    "|```assertIsNot(a, b)```|```a is not b```|\n",
    "|```assertIsNone(x)```|```x is None```|\n",
    "|```assertIsNotNone(x)```|```x is not None```|\n",
    "|```assertIn(a, b)```|```a in b```|\n",
    "|```assertNotIn(a, b)```|```a not in b```|\n",
    "|```assertIsInstance(a, b)```|```isinstance(a, b)```|\n",
    "|```assertNotIsInstance(a, b)```|```not isinstance(a, b)```|\n",
    "|```assertAlmostEqual(a, b)``` |```round(a-b, 7) == 0```|\n",
    "|```assertNotAlmostEqual(a, b)```|```round(a-b, 7) != 0```|\n",
    "|```assertGreater(a, b)```|```a > b```|\n",
    "|```assertGreaterEqual(a, b)```|```a >= b```|\n",
    "|```assertLess(a, b)```|```a < b```|\n",
    "|```assertLessEqual(a, b)```|```a <= b```|\n",
    "|```assertRegex(s, r)```|```r.search(s)```|\n",
    "|```assertNotRegex(s, r)```|```not r.search(s)```|\n",
    "|```assertCountEqual(a, b)```|```a``` y ```b``` tienen los mismos elementos en la misma cantidad|"
   ]
  },
  {
   "cell_type": "markdown",
   "metadata": {},
   "source": [
    "**Ejemplo:**"
   ]
  },
  {
   "cell_type": "markdown",
   "metadata": {},
   "source": [
    "* La clase ```PruebaExperimental``` define el métodos ```pruebaIgual()```, la cual validará si el objeto asignado al parámetro ```a``` tiene el mismo valor que el objeto del parámetro ```b```. "
   ]
  },
  {
   "cell_type": "code",
   "execution_count": null,
   "metadata": {},
   "outputs": [],
   "source": [
    "class PruebaExperimental(unittest.TestCase):\n",
    "\n",
    "    def pruebaIgual(self, a, b):\n",
    "        self.assertEqual(a, b)"
   ]
  },
  {
   "cell_type": "code",
   "execution_count": null,
   "metadata": {},
   "outputs": [],
   "source": [
    "prueba = PruebaExperimental()"
   ]
  },
  {
   "cell_type": "code",
   "execution_count": null,
   "metadata": {},
   "outputs": [],
   "source": [
    "prueba.pruebaIgual(2, 2)"
   ]
  },
  {
   "cell_type": "code",
   "execution_count": null,
   "metadata": {
    "scrolled": false
   },
   "outputs": [],
   "source": [
    "prueba.pruebaIgual(2, 5)"
   ]
  },
  {
   "cell_type": "markdown",
   "metadata": {},
   "source": [
    "\n",
    "## Corrida de pruebas con los métodos ```runTest()``` y ```run()```."
   ]
  },
  {
   "cell_type": "markdown",
   "metadata": {},
   "source": [
    "Es posible ejecutar una serie de pruebas desde un objeto instanciado de una subclase de ```TestCase``` mediante el método ```uinttest.TestCase.run()```. \n",
    "\n",
    "Las pruebas que serán realizadas mediante el método ```run()```, deben de ser definidas en un método llamado ```runtest()```. El resultado es un objeto de tipo ```unittest.result.TestResult```."
   ]
  },
  {
   "cell_type": "markdown",
   "metadata": {},
   "source": [
    "**Ejemplo:**"
   ]
  },
  {
   "cell_type": "code",
   "execution_count": null,
   "metadata": {},
   "outputs": [],
   "source": [
    "class PruebaEjecutable(unittest.TestCase):\n",
    "\n",
    "    def pruebaIgual(self, a, b):\n",
    "        self.assertEqual(a, b)\n",
    "        \n",
    "    def runTest(self):\n",
    "        self.pruebaIgual(2, 2)\n",
    "        print(inexistente)\n",
    "        self.pruebaIgual(2, 3)\n",
    "        self.pruebaIgual('Hola, ', 'Mundo')"
   ]
  },
  {
   "cell_type": "code",
   "execution_count": null,
   "metadata": {},
   "outputs": [],
   "source": [
    "PruebaEjecutable().run()"
   ]
  },
  {
   "cell_type": "code",
   "execution_count": null,
   "metadata": {},
   "outputs": [],
   "source": [
    "resultado = PruebaEjecutable().run()"
   ]
  },
  {
   "cell_type": "code",
   "execution_count": null,
   "metadata": {},
   "outputs": [],
   "source": [
    "resultado.failures"
   ]
  },
  {
   "cell_type": "code",
   "execution_count": null,
   "metadata": {},
   "outputs": [],
   "source": [
    "resultado.errors"
   ]
  },
  {
   "cell_type": "code",
   "execution_count": null,
   "metadata": {},
   "outputs": [],
   "source": [
    "for item in resultado.failures:\n",
    "    print(item[1])"
   ]
  },
  {
   "cell_type": "code",
   "execution_count": null,
   "metadata": {},
   "outputs": [],
   "source": [
    "resultado.errors"
   ]
  },
  {
   "cell_type": "code",
   "execution_count": null,
   "metadata": {
    "scrolled": false
   },
   "outputs": [],
   "source": [
    "resultado.printErrors()"
   ]
  },
  {
   "cell_type": "markdown",
   "metadata": {},
   "source": [
    "## Desarrollo de *fixtures*.\n",
    "\n",
    "Se conoce como *fixture* a una serie de operaciones previas o posteriores a las pruebas que permiten desplegar un entorno adecuado para la realización de pruebas. Para ello, los objetos instanciados de las subclase de ```TestCase``` pueden definir los métodos:\n",
    "\n",
    "* ```setUp()``` para realizar operaciones previas a una prueba.\n",
    "* ```tearDown()``` para realizar operaciones posteriores a una prueba."
   ]
  },
  {
   "cell_type": "code",
   "execution_count": null,
   "metadata": {},
   "outputs": [],
   "source": [
    "class PruebaFixture(unittest.TestCase):\n",
    "\n",
    "    def pruebaIgual(self, a, b):\n",
    "        print('Preparando pruebas')\n",
    "        self.assertEqual(a, b)\n",
    "    \n",
    "    def setUp(self):\n",
    "        self.a = 2\n",
    "        self.b = 3\n",
    "    \n",
    "    def tearDown(self):\n",
    "        print(\"Terminaron las pruebas.\")\n",
    "    \n",
    "    def runTest(self):\n",
    "        self.pruebaIgual(2, self.a)\n",
    "        self.pruebaIgual(2, self.b)\n",
    "        self.pruebaIgual('Hola, ', 'Mundo')"
   ]
  },
  {
   "cell_type": "code",
   "execution_count": null,
   "metadata": {},
   "outputs": [],
   "source": [
    "resultado = PruebaFixture().run()"
   ]
  },
  {
   "cell_type": "code",
   "execution_count": null,
   "metadata": {},
   "outputs": [],
   "source": [
    "resultado.failures"
   ]
  },
  {
   "cell_type": "markdown",
   "metadata": {},
   "source": [
    "## Ejecución de ```unittest``` desde la línea de comandos."
   ]
  },
  {
   "cell_type": "markdown",
   "metadata": {},
   "source": [
    "``` python\n",
    "#! /usr/bin/env python3\n",
    "import unittest\n",
    "\n",
    "class TestStringMethods(unittest.TestCase):\n",
    "\n",
    "    def test_upper(self):\n",
    "        self.assertEqual('foo'.upper(), 'FOO')\n",
    "\n",
    "    def test_isupper(self):\n",
    "        self.assertTrue('FOO'.isupper())\n",
    "        self.assertFalse('Foo'.isupper())\n",
    "\n",
    "    def test_split(self):\n",
    "        s = 'Hola Mundo'\n",
    "        self.assertEqual(s.split(), ['Hola', 'Mundo'])\n",
    "        with self.assertRaises(TypeError):\n",
    "            s.split(2)\n",
    "\n",
    "if __name__ == '__main__':\n",
    "    unittest.main()\n",
    "```"
   ]
  },
  {
   "cell_type": "code",
   "execution_count": null,
   "metadata": {
    "scrolled": false
   },
   "outputs": [],
   "source": [
    "!python -m unittest src/06/prueba_unittest.py -v"
   ]
  },
  {
   "cell_type": "markdown",
   "metadata": {},
   "source": [
    "<p style=\"text-align: center\"><a rel=\"license\" href=\"http://creativecommons.org/licenses/by/4.0/\"><img alt=\"Licencia Creative Commons\" style=\"border-width:0\" src=\"https://i.creativecommons.org/l/by/4.0/80x15.png\" /></a><br />Esta obra está bajo una <a rel=\"license\" href=\"http://creativecommons.org/licenses/by/4.0/\">Licencia Creative Commons Atribución 4.0 Internacional</a>.</p>\n",
    "<p style=\"text-align: center\">&copy; José Luis Chiquete Valdivieso. 2022.</p>"
   ]
  }
 ],
 "metadata": {
  "kernelspec": {
   "display_name": "Python 3 (ipykernel)",
   "language": "python",
   "name": "python3"
  },
  "language_info": {
   "codemirror_mode": {
    "name": "ipython",
    "version": 3
   },
   "file_extension": ".py",
   "mimetype": "text/x-python",
   "name": "python",
   "nbconvert_exporter": "python",
   "pygments_lexer": "ipython3",
   "version": "3.9.2"
  }
 },
 "nbformat": 4,
 "nbformat_minor": 2
}
