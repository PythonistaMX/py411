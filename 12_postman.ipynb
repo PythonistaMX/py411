{
 "cells": [
  {
   "cell_type": "markdown",
   "metadata": {},
   "source": [
    "[![img/pythonista.png](img/pythonista.png)](https://www.pythonista.io)"
   ]
  },
  {
   "cell_type": "markdown",
   "metadata": {},
   "source": [
    "## *Postman*."
   ]
  },
  {
   "cell_type": "markdown",
   "metadata": {},
   "source": [
    "[*Postman*](https://www.postman.com/) es un servicio en línea que además ofrece una aplicación de escritorio que facilita las siguientes operaciones relacionadas con *web APIs*:\n",
    "\n",
    "* Diseño.\n",
    "* Pruebas.\n",
    "* Documentación.\n",
    "* Simulación (*mocking*) de servidores.\n",
    "* Monitoreo de *APIs*.\n",
    "* Descubrimiento de *APIs*.\n",
    "\n",
    "\n",
    "Este servicio cuenta con varios niveles de suscripción, incluido uno gratuito, el cual perimite .\n",
    "\n",
    "A lo largo del curso se utilizará *Postman* como una herramienta auxiliar para la realizaci;onde prácticas demostrativas."
   ]
  },
  {
   "cell_type": "markdown",
   "metadata": {},
   "source": [
    "## Espacios de trabajo (*workspaces*).\n",
    "\n",
    "Los *workspaces* permiten definir un recurso que contiene uno o más:\n",
    "\n",
    "* Entornos (*environments*).\n",
    "* Colecciones de *endpoints* (*collections*).\n",
    "* *APIs*.\n",
    "* Simuladores de servidores (*mocking servers*).\n",
    "* Monitores.\n",
    "\n",
    "Los *worskpaces* pueden ser personales o compartidos por un equipo."
   ]
  },
  {
   "cell_type": "markdown",
   "metadata": {},
   "source": [
    "## Entornos y variables.\n",
    "\n",
    "Corresponde a un conjunto de definiciones de variables que pueden ser utilizadas en diversos ámbitos."
   ]
  },
  {
   "cell_type": "markdown",
   "metadata": {},
   "source": [
    "### Ámbitos de las variables.\n",
    "\n",
    "* Variables globales.\n",
    "* Variables de entorno.\n",
    "* Variables de colección."
   ]
  },
  {
   "cell_type": "markdown",
   "metadata": {},
   "source": [
    "## Colecciones."
   ]
  },
  {
   "cell_type": "markdown",
   "metadata": {},
   "source": [
    "Una colección contiene un conjunto de peticiones."
   ]
  },
  {
   "cell_type": "markdown",
   "metadata": {},
   "source": [
    "## Publicación de colecciones."
   ]
  },
  {
   "cell_type": "markdown",
   "metadata": {},
   "source": [
    "https://www.postman.com/explore"
   ]
  },
  {
   "cell_type": "markdown",
   "metadata": {},
   "source": [
    "## *Newman*."
   ]
  },
  {
   "cell_type": "markdown",
   "metadata": {},
   "source": [
    "https://learning.postman.com/docs/running-collections/using-newman-cli/command-line-integration-with-newman/"
   ]
  },
  {
   "cell_type": "markdown",
   "metadata": {},
   "source": [
    "<p style=\"text-align: center\"><a rel=\"license\" href=\"http://creativecommons.org/licenses/by/4.0/\"><img alt=\"Licencia Creative Commons\" style=\"border-width:0\" src=\"https://i.creativecommons.org/l/by/4.0/80x15.png\" /></a><br />Esta obra está bajo una <a rel=\"license\" href=\"http://creativecommons.org/licenses/by/4.0/\">Licencia Creative Commons Atribución 4.0 Internacional</a>.</p>\n",
    "<p style=\"text-align: center\">&copy; José Luis Chiquete Valdivieso. 2021.</p>"
   ]
  }
 ],
 "metadata": {
  "kernelspec": {
   "display_name": "Python 3 (ipykernel)",
   "language": "python",
   "name": "python3"
  },
  "language_info": {
   "codemirror_mode": {
    "name": "ipython",
    "version": 3
   },
   "file_extension": ".py",
   "mimetype": "text/x-python",
   "name": "python",
   "nbconvert_exporter": "python",
   "pygments_lexer": "ipython3",
   "version": "3.9.7"
  }
 },
 "nbformat": 4,
 "nbformat_minor": 2
}
