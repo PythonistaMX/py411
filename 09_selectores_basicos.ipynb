{
 "cells": [
  {
   "cell_type": "markdown",
   "metadata": {},
   "source": [
    "# Selectores básicos."
   ]
  },
  {
   "cell_type": "markdown",
   "metadata": {},
   "source": [
    "## Selectores.\n",
    "\n",
    "Los selectores son expresiones que permiten identificar uno o varios elementos dentro de un documento *HTML* e incluso algunos eventos.\n",
    "\n",
    "Los selectores son un elemento clave de las reglas de estilo, pero su aplicación va más allá de este ámbito. Los selectores también son muy uitlizados para el desarrollo de aplicaciones web.\n",
    "\n",
    "Para conocer más sobre la sintaxis de selectores es posible consultar la siguiente liga:\n",
    "\n",
    "https://www.w3schools.com/cssref/css_selectors.asp\n",
    "\n",
    "A continuación se describirán y ejemplificarán algunos de los más comunes."
   ]
  },
  {
   "cell_type": "markdown",
   "metadata": {},
   "source": [
    "## Selectores de elementos.\n",
    "\n",
    "Los selectores de elementos permiten identificar a todos los elementos de cierto tipo en un documento HTML por el nombre de las etiquetas.\n",
    "\n",
    "Para seleccionar a todos los elementos de un documento se utiliza el selector ```*```."
   ]
  },
  {
   "cell_type": "markdown",
   "metadata": {},
   "source": [
    "**Ejemplos:**"
   ]
  },
  {
   "cell_type": "markdown",
   "metadata": {},
   "source": [
    "* El selector para todos los elementos ```<p>``` es ```p```.\n",
    "* El selector para todos los elementos ```<a>``` es ```a```.\n",
    "* El selector para todos los elementos ```<ol>``` es ```ol```.\n",
    "* El selector para todos los elementos ```<li>``` es ```li```.\n",
    "* El selector para todos los elementos ```<body>``` es ```body```.\n"
   ]
  },
  {
   "cell_type": "markdown",
   "metadata": {},
   "source": [
    "**Ejemplo:**\n",
    "\n",
    "* Las siguientes celdas modificarán el color de fondo de todos los elementos ```<p>```de este documento."
   ]
  },
  {
   "cell_type": "code",
   "execution_count": null,
   "metadata": {},
   "outputs": [],
   "source": [
    "%%html\n",
    "<style>\n",
    "    p {\n",
    "        background-color: green;\n",
    "    }\n",
    "</style>"
   ]
  },
  {
   "cell_type": "code",
   "execution_count": null,
   "metadata": {},
   "outputs": [],
   "source": [
    "%%html\n",
    "<style>\n",
    "    p {\n",
    "        background-color: LightCyan;\n",
    "    }\n",
    "</style>"
   ]
  },
  {
   "cell_type": "code",
   "execution_count": null,
   "metadata": {},
   "outputs": [],
   "source": [
    "%%html\n",
    "<style>\n",
    "    p {\n",
    "        background-color: white;\n",
    "    }\n",
    "</style>"
   ]
  },
  {
   "cell_type": "markdown",
   "metadata": {},
   "source": [
    "## Selectores por identificador.\n",
    "\n",
    "Para encontrar un elemento a partir de si atributo ```id``` se utiliza el signo de gato ```#``` seguido del valor asignado a ```id```:\n",
    "\n",
    "```\n",
    "#(identificador)\n",
    "```"
   ]
  },
  {
   "cell_type": "markdown",
   "metadata": {},
   "source": [
    "**Ejemplo:**"
   ]
  },
  {
   "cell_type": "markdown",
   "metadata": {},
   "source": [
    "* Para identificar a un elemento que tiene el atributo ```id=\"ejemplo_3-1\"```, se utiliza el selector ```#ejemplo_3-1```."
   ]
  },
  {
   "cell_type": "code",
   "execution_count": null,
   "metadata": {},
   "outputs": [],
   "source": [
    "%%html\n",
    "<div id=\"ejemplo_3-1\">Hola.</div>"
   ]
  },
  {
   "cell_type": "code",
   "execution_count": null,
   "metadata": {},
   "outputs": [],
   "source": [
    "%%html\n",
    "<style>\n",
    "    #ejemplo_3-1 {\n",
    "        background-color:blue;\n",
    "        width: 50px;\n",
    "        height: 50px;\n",
    "        color: white;\n",
    "    }\n",
    "</style>"
   ]
  },
  {
   "cell_type": "markdown",
   "metadata": {},
   "source": [
    "## Selectores por clase.\n",
    "\n",
    "Para encontrar los elementos de una clase a partir de su atributo *class* se utiliza el punto ```.``` seguido del valor asignado al atributo ```class```:\n",
    "\n",
    "Para encontrar a todos los elementos de una clase se utiliza:\n",
    "\n",
    "```\n",
    ".(clase)\n",
    "```\n",
    "\n",
    "Para encontrar a los elementos de un tipo específico que comparten una clase se utiliza:\n",
    "\n",
    "```\n",
    "(selector de elemento).(clase)\n",
    "```"
   ]
  },
  {
   "cell_type": "markdown",
   "metadata": {},
   "source": [
    "**Ejemplos:**"
   ]
  },
  {
   "cell_type": "markdown",
   "metadata": {},
   "source": [
    "* Para identificar a todos los elementos con el atributo ```class=\"clase-1\"```, se utiliza el selector ```.clase_1```.\n",
    "\n",
    "* Para identificar a todos los elementos de tipo ```p``` con el atributo ```class=\"solitario\"```, se utiliza el selector ```p.solitario```."
   ]
  },
  {
   "cell_type": "code",
   "execution_count": null,
   "metadata": {
    "scrolled": true
   },
   "outputs": [],
   "source": [
    "%%html\n",
    "    <h4 class=\"clase_1\">Ejemplo de clases</h4>\n",
    "<p> Este es un párrafo normal.</p>\n",
    "<p class=\"clase_1\"> Este es un párrafo de una <span class=\"clase_1\">clase especial</span> \n",
    "que puede ser segmentada.</p>\n",
    "<p> Las clases aplican a <span class=\"clase_1\">cualquier elemento.</span> de un documento.</p>\n",
    "<p>Las clases son muy útiles.</p>\n"
   ]
  },
  {
   "cell_type": "code",
   "execution_count": null,
   "metadata": {},
   "outputs": [],
   "source": [
    "%%html\n",
    "<style>\n",
    "    .clase_1{\n",
    "        background-color: Gold;\n",
    "        color: blue;\n",
    "    }\n",
    "    p.clase_1{\n",
    "        color: green;\n",
    "    }"
   ]
  },
  {
   "cell_type": "markdown",
   "metadata": {},
   "source": [
    "## Selectores por atributos.\n",
    "\n",
    "Es posible encontrar elementos que tengan un atributo específico mediante el uso de corchetes:\n",
    "\n",
    "```\n",
    "[(atributo)]\n",
    "```\n",
    "\n",
    "Para encontrar a los elementos que tengan un atributo con un valor específico se utiliza la sintaxis siguiente:\n",
    "\n",
    "```\n",
    "[(atributo)=\"(valor)\"]\n",
    "```"
   ]
  },
  {
   "cell_type": "markdown",
   "metadata": {},
   "source": [
    "**Ejemplos:**\n",
    "\n",
    "* El selector ```[peso]``` buscará a todos los elementos que contengan al atributo ```peso```.\n",
    "* El selector ```[peso=\"10\"]``` buscará a todos los elementos que contengan al atributo ```peso=\"10\"```.\n",
    "* El selector ```[peso=\"11\"]``` buscará a todos los elementos que contengan al atributo ```peso=\"10\"```."
   ]
  },
  {
   "cell_type": "code",
   "execution_count": null,
   "metadata": {
    "scrolled": true
   },
   "outputs": [],
   "source": [
    "%%html\n",
    "<ul>\n",
    "<li peso=\"5\">Este es un elemento que pesa 5.</li>\n",
    "<li peso=\"11\">Este es un elemento que pesa 11.</li>\n",
    "<li peso=\"10\">Este es un elemento que pesa 10.</li>\n",
    "<li>Este es un elemento que no pesa.</li>\n",
    "<li peso=\"5\">Este es un elemento que pesa 5.</li>\n",
    "<li>Este es un elemento que no pesa.</li>\n",
    "<li peso=\"10\">Este es un elemento que pesa 10.</li>\n",
    "<li peso=\"10\">Este es un elemento que pesa 10.</li>\n",
    "</ol>"
   ]
  },
  {
   "cell_type": "code",
   "execution_count": null,
   "metadata": {},
   "outputs": [],
   "source": [
    "%%html\n",
    "<style>\n",
    "[peso] {\n",
    "    background-color: gold;\n",
    "}\n",
    "[peso=\"10\"] {\n",
    "    background-color: azure;\n",
    "    color: red;\n",
    "}  \n",
    "[peso=\"11\"] {\n",
    "    background-color: skyblue;\n",
    "    color: cyan;\n",
    "}  \n",
    "</style>\n"
   ]
  },
  {
   "cell_type": "markdown",
   "metadata": {},
   "source": [
    "## Agrupamiento de varios selectores.\n",
    "\n",
    "Para identificar más de un selectores se utiliza la coma ```,```. De ese modo se puede aplicar una regla a distintos elementos."
   ]
  },
  {
   "cell_type": "markdown",
   "metadata": {},
   "source": [
    "**Ejemplo:**"
   ]
  },
  {
   "cell_type": "markdown",
   "metadata": {},
   "source": [
    "La regla ```color:red;``` se aplicará a todos los elementos ```<p>``` y ```<a>``` dentro de un documento HTML.\n",
    "\n",
    "``` \n",
    "(selector 1), (selector 2), ..., (selector n){ (reglas) } \n",
    "```"
   ]
  },
  {
   "cell_type": "code",
   "execution_count": null,
   "metadata": {},
   "outputs": [],
   "source": [
    "%%html\n",
    "<style>\n",
    "p, a {\n",
    "    color:red;\n",
    "}\n",
    "</style>"
   ]
  },
  {
   "cell_type": "markdown",
   "metadata": {},
   "source": [
    "## Elementos dentro  de un elemento.\n",
    "\n",
    "Es posible identificar elementos contenidos en otro elemento utilizando un espacio.\n",
    "\n",
    "``` \n",
    "(selector contenedor) (selector contenido){ (reglas) } \n",
    "```"
   ]
  },
  {
   "cell_type": "markdown",
   "metadata": {},
   "source": [
    "**Ejemplo:**\n",
    "\n",
    "* La regla ```color: green;``` se aplicará a los elementos ```<b>``` que estén dentro de un elemento ```<li>```.\n",
    "* La regla ```color: yellow;``` se aplicará a los elementos ```<b>``` que estén dentro de un elemento ```<p>```.\n",
    "* La regla ```color: aliceblue;``` se aplicará a los elementos ```<b>```."
   ]
  },
  {
   "cell_type": "code",
   "execution_count": null,
   "metadata": {},
   "outputs": [],
   "source": [
    "%%html\n",
    "<h4>Ejemplo de <b>selectores.<b/></h4>.\n",
    "<ul>\n",
    "    <li>uno</li>\n",
    "    <li>dos</li>\n",
    "    <li><b>tres</b></li>\n",
    "    <li>cuatro</li>\n",
    "</ul>\n",
    "<p><b>Este es un ejemplo.</b></p>\n"
   ]
  },
  {
   "cell_type": "code",
   "execution_count": null,
   "metadata": {},
   "outputs": [],
   "source": [
    "%%html\n",
    "<style>\n",
    "\n",
    "li b {\n",
    "    color: green;\n",
    "}\n",
    "\n",
    "p b {\n",
    "    color: yellow;\n",
    "}\n",
    "\n",
    "b {\n",
    "    color: aliceblue;\n",
    "}\n",
    "</style>\n"
   ]
  },
  {
   "cell_type": "markdown",
   "metadata": {},
   "source": [
    "<p style=\"text-align: center\"><a rel=\"license\" href=\"http://creativecommons.org/licenses/by/4.0/\"><img alt=\"Licencia Creative Commons\" style=\"border-width:0\" src=\"https://i.creativecommons.org/l/by/4.0/80x15.png\" /></a><br />Esta obra está bajo una <a rel=\"license\" href=\"http://creativecommons.org/licenses/by/4.0/\">Licencia Creative Commons Atribución 4.0 Internacional</a>.</p>\n",
    "<p style=\"text-align: center\">&copy; José Luis Chiquete Valdivieso. 2020.</p>"
   ]
  }
 ],
 "metadata": {
  "kernelspec": {
   "display_name": "Python 3 (ipykernel)",
   "language": "python",
   "name": "python3"
  },
  "language_info": {
   "codemirror_mode": {
    "name": "ipython",
    "version": 3
   },
   "file_extension": ".py",
   "mimetype": "text/x-python",
   "name": "python",
   "nbconvert_exporter": "python",
   "pygments_lexer": "ipython3",
   "version": "3.8.8"
  }
 },
 "nbformat": 4,
 "nbformat_minor": 2
}
