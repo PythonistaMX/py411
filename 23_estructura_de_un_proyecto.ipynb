{
 "cells": [
  {
   "cell_type": "markdown",
   "metadata": {},
   "source": [
    "<a href=\"https://pythonista.io\"> <img src=\"img/pythonista.png\"></a>"
   ]
  },
  {
   "cell_type": "markdown",
   "metadata": {},
   "source": [
    "# Estructura de un proyecto de *Python*."
   ]
  },
  {
   "cell_type": "markdown",
   "metadata": {},
   "source": [
    "## Estructura genérica recomendada."
   ]
  },
  {
   "cell_type": "markdown",
   "metadata": {},
   "source": [
    "https://github.com/pypa/sampleproject"
   ]
  },
  {
   "cell_type": "markdown",
   "metadata": {},
   "source": [
    "```\n",
    ".\n",
    "├── LICENSE.txt\n",
    "├── MANIFEST.in\n",
    "├── README.md\n",
    "├── data\n",
    "│   └── data_file\n",
    "├── pyproject.toml\n",
    "├── setup.cfg\n",
    "├── setup.py\n",
    "├── src\n",
    "│   └── sample\n",
    "│       ├── __init__.py\n",
    "│       ├── package_data.dat\n",
    "│       └── simple.py\n",
    "├── tests\n",
    "│   ├── __init__.py\n",
    "│   └── test_simple.py\n",
    "└── tox.ini\n",
    "```"
   ]
  },
  {
   "cell_type": "markdown",
   "metadata": {},
   "source": [
    "## Estructura de un proyecto de Django."
   ]
  },
  {
   "cell_type": "markdown",
   "metadata": {},
   "source": [
    "```\n",
    ".\n",
    "├── proyecto\n",
    "│   ├── __init__.py\n",
    "│   ├── asgi.py\n",
    "│   ├── settings.py\n",
    "│   ├── urls.py\n",
    "│   └── wsgi.py\n",
    "├── aplicacion\n",
    "│   ├── __init__.py\n",
    "│   ├── admin.py\n",
    "│   ├── apps.py\n",
    "│   ├── migrations\n",
    "│   │   └── __init__.py\n",
    "│   ├── models.py\n",
    "│   ├── tests.py\n",
    "│   └── views.py\n",
    "└── manage.py\n",
    "```"
   ]
  },
  {
   "cell_type": "markdown",
   "metadata": {},
   "source": [
    "## Estructura de un proyecto de *Flask*."
   ]
  },
  {
   "cell_type": "markdown",
   "metadata": {},
   "source": [
    "https://github.com/pallets/flask/tree/main/examples/tutorial"
   ]
  },
  {
   "cell_type": "markdown",
   "metadata": {},
   "source": [
    "```\n",
    ".\n",
    "├── flaskr\n",
    "│   ├── auth.py\n",
    "│   ├── blog.py\n",
    "│   ├── db.py\n",
    "│   ├── __init__.py\n",
    "│   ├── schema.sql\n",
    "│   ├── static\n",
    "│   │   └── style.css\n",
    "│   └── templates\n",
    "│       ├── auth\n",
    "│       │   ├── login.html\n",
    "│       │   └── register.html\n",
    "│       ├── base.html\n",
    "│       └── blog\n",
    "│           ├── create.html\n",
    "│           ├── index.html\n",
    "│           └── update.html\n",
    "├── LICENSE.rst\n",
    "├── MANIFEST.in\n",
    "├── README.rst\n",
    "├── setup.cfg\n",
    "├── setup.py\n",
    "└── tests\n",
    "    ├── conftest.py\n",
    "    ├── data.sql\n",
    "    ├── test_auth.py\n",
    "    ├── test_blog.py\n",
    "    ├── test_db.py\n",
    "    └── test_factory.py\n",
    "```"
   ]
  },
  {
   "cell_type": "markdown",
   "metadata": {},
   "source": [
    "<p style=\"text-align: center\"><a rel=\"license\" href=\"http://creativecommons.org/licenses/by/4.0/\"><img alt=\"Licencia Creative Commons\" style=\"border-width:0\" src=\"https://i.creativecommons.org/l/by/4.0/80x15.png\" /></a><br />Esta obra está bajo una <a rel=\"license\" href=\"http://creativecommons.org/licenses/by/4.0/\">Licencia Creative Commons Atribución 4.0 Internacional</a>.</p>\n",
    "<p style=\"text-align: center\">&copy; José Luis Chiquete Valdivieso. 2022.</p>"
   ]
  }
 ],
 "metadata": {
  "kernelspec": {
   "display_name": "Python 3 (ipykernel)",
   "language": "python",
   "name": "python3"
  },
  "language_info": {
   "codemirror_mode": {
    "name": "ipython",
    "version": 3
   },
   "file_extension": ".py",
   "mimetype": "text/x-python",
   "name": "python",
   "nbconvert_exporter": "python",
   "pygments_lexer": "ipython3",
   "version": "3.9.2"
  }
 },
 "nbformat": 4,
 "nbformat_minor": 2
}
