{
 "cells": [
  {
   "cell_type": "markdown",
   "id": "bd5fd435",
   "metadata": {},
   "source": [
    "## Instalación del *JDK* y *Docker*."
   ]
  },
  {
   "cell_type": "code",
   "execution_count": null,
   "id": "a617b689",
   "metadata": {},
   "outputs": [],
   "source": [
    "sudo apt install openjdk-11-jdk-headless docker.io"
   ]
  },
  {
   "cell_type": "markdown",
   "id": "1e490ada",
   "metadata": {},
   "source": [
    "## Creación del usuario ```jenkins```. "
   ]
  },
  {
   "cell_type": "code",
   "execution_count": null,
   "id": "95de29dc",
   "metadata": {},
   "outputs": [],
   "source": [
    "sudo useradd jenkins -r -m -s /bin/bash"
   ]
  },
  {
   "cell_type": "code",
   "execution_count": null,
   "id": "7ef7ebd1",
   "metadata": {},
   "outputs": [],
   "source": [
    "sudo adduser jenkins docker"
   ]
  },
  {
   "cell_type": "markdown",
   "id": "b8cafa79",
   "metadata": {},
   "source": [
    "## Instalación a partir del archivo *WAR* de *Jenkins* ."
   ]
  },
  {
   "cell_type": "code",
   "execution_count": null,
   "id": "c74109b4",
   "metadata": {},
   "outputs": [],
   "source": [
    "wget https://get.jenkins.io/war-stable/2.319.2/jenkins.war"
   ]
  },
  {
   "cell_type": "code",
   "execution_count": null,
   "id": "b2ebebf8",
   "metadata": {},
   "outputs": [],
   "source": [
    "sudo mkdir /opt/jenkins"
   ]
  },
  {
   "cell_type": "code",
   "execution_count": null,
   "id": "3c11357f",
   "metadata": {},
   "outputs": [],
   "source": [
    "sudo mv jenkins.war /opt/jenkins"
   ]
  },
  {
   "cell_type": "code",
   "execution_count": null,
   "id": "df0f8add",
   "metadata": {},
   "outputs": [],
   "source": [
    "sudo chown jenkins:jenkins -R /opt/jenkins"
   ]
  },
  {
   "cell_type": "markdown",
   "id": "f660e66d",
   "metadata": {},
   "source": [
    "### Creación, inicio y habilitación del servicio de *Jenkins*."
   ]
  },
  {
   "cell_type": "code",
   "execution_count": null,
   "id": "63f65687",
   "metadata": {
    "scrolled": true
   },
   "outputs": [],
   "source": [
    "echo -e \"[Unit]\\nDescription=Jenkins\\n\\n[Service]\\nType=simple\\nPIDFile=/run/jenkins.pid\\nExecStart=/usr/bin/java -jar /opt/jenkins/jenkins.war\\nUser=jenkins\\nGroup=jenkins\\nRestart=always\\nRestartSec=10\\n\\n[Install]\\nWantedBy=multi-user.target\" > jenkins.service\n",
    "sudo mv jenkins.service /lib/systemd/system/\n",
    "sudo systemctl enable jenkins.service\n",
    "sudo systemctl start jenkins\n",
    "sudo systemctl status jenkins --no-pager"
   ]
  },
  {
   "cell_type": "code",
   "execution_count": null,
   "id": "82b8d74e",
   "metadata": {
    "scrolled": true
   },
   "outputs": [],
   "source": [
    "cat /lib/systemd/system/jenkins.service"
   ]
  },
  {
   "cell_type": "markdown",
   "id": "00026dda",
   "metadata": {},
   "source": [
    "### Obtención de la credencial inicial de *Jenkins*."
   ]
  },
  {
   "cell_type": "code",
   "execution_count": null,
   "id": "9918620b",
   "metadata": {},
   "outputs": [],
   "source": [
    "sudo cat /home/jenkins/.jenkins/secrets/initialAdminPassword"
   ]
  }
 ],
 "metadata": {
  "kernelspec": {
   "display_name": "Bash",
   "language": "bash",
   "name": "bash"
  },
  "language_info": {
   "codemirror_mode": "shell",
   "file_extension": ".sh",
   "mimetype": "text/x-sh",
   "name": "bash"
  }
 },
 "nbformat": 4,
 "nbformat_minor": 5
}
