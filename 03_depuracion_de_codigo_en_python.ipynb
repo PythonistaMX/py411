{
 "cells": [
  {
   "cell_type": "markdown",
   "metadata": {},
   "source": [
    "<a href=\"https://pythonista.io\"> <img src=\"img/pythonista.png\"></a>"
   ]
  },
  {
   "cell_type": "markdown",
   "metadata": {},
   "source": [
    "# Depuración en *Python*."
   ]
  },
  {
   "cell_type": "markdown",
   "metadata": {},
   "source": [
    "La depuración (\"debugging\" e incluso \"debuguear\") de código consiste en encontrar errores lógicos en el código fuente.\n",
    "\n",
    "Existen diversa técnicas para depurar el código y los *IDE* cuentan con herramientas muy efectivas para la realización de dicha actividad."
   ]
  },
  {
   "cell_type": "markdown",
   "metadata": {},
   "source": [
    "## Depuración con ```pdb```."
   ]
  },
  {
   "cell_type": "markdown",
   "metadata": {},
   "source": [
    "La biblioteca estándar de *Python* cuenta con el paquete ```pdb```, el cual permite darle seguimiento a la ejecución del código de *Python*.\n",
    "\n",
    "Dicha biblioteca permite dar seguimiento paso a paso de la ejecución de un *script* y conocer el estado de las variables de dicho *script*.\n",
    "\n",
    "https://docs.python.org/3/library/pdb.html"
   ]
  },
  {
   "cell_type": "code",
   "execution_count": null,
   "metadata": {},
   "outputs": [],
   "source": [
    "import pdb"
   ]
  },
  {
   "cell_type": "markdown",
   "metadata": {},
   "source": [
    "### El modo de depuración.\n",
    "\n",
    "Al utilizar el módulo ```pdb```, el intérpete despliega un modo de depuración que consiste en presentar la línea de código que se ejecutará y un *prompt* al cual se le pueden ingresar expresiones o comandos. Las expresiones pueden acceder al ámbito global del script en ejecución, permitiendo consultar, modificar e incluso definir objetos utilizando el espacio de nombres del *script*."
   ]
  },
  {
   "cell_type": "markdown",
   "metadata": {},
   "source": [
    "### Comandos de depuración.\n",
    "\n",
    "Al estar en modo de depuración, es posible ingresar ciertos comandos que afectan la ejecución del *script*. \n",
    "\n",
    "Los comandos de depuración pueden ser consultados en la siguiente liga:\n",
    "\n",
    "https://docs.python.org/3/library/pdb.html#debugger-commands\n",
    "\n",
    "Algunos comandos son:\n",
    "\n",
    "* ```n```, el cual permite ejecutar la línea de comando corresondiente y psasare a la siguiente línea de ejecución del *script*.\n",
    "* ```c```, el cual permite ejecutar el script hasta el final sin pausas.\n",
    "* ```exit```, el cual permite salir del modo de depuración."
   ]
  },
  {
   "cell_type": "markdown",
   "metadata": {},
   "source": [
    "### Ejecución desde la línea de comandos.\n",
    "\n",
    "Para realizar la depuración de un *script* desde la línea de comando, es posible usar la siguiente sintaxis:\n",
    "\n",
    "```\n",
    "python -m pdb <ruta>\n",
    "```\n"
   ]
  },
  {
   "cell_type": "markdown",
   "metadata": {},
   "source": [
    "**Ejemplo:**\n",
    "\n",
    "* Al ejecutar el siguiente comando desde una terminal localizada en el mismo directorio de esta *notebook* se ejecutará el script [```src/modulo.py```](src/modulo.py) en modo de depuracion.\n",
    "\n",
    "``` bash\n",
    "python -m pdb src/modulo.py \n",
    "```"
   ]
  },
  {
   "cell_type": "markdown",
   "metadata": {},
   "source": [
    "### La función  ```pdb.runcall()```.\n",
    "\n",
    "La función ```pdb.runcall()``` permite depurar desde el entorno interactivo de *Python* el código de una función, método o \"*callable*\", ingresado como primer argumento. Los argumentos siguientes, serán usados como argumentos del \"*callable*\".\n",
    "\n",
    "```\n",
    "pdb.runcall(<callable>, *args, **kargs)\n",
    "```"
   ]
  },
  {
   "cell_type": "markdown",
   "metadata": {},
   "source": [
    "**Ejemplo:**"
   ]
  },
  {
   "cell_type": "markdown",
   "metadata": {},
   "source": [
    "* La siguiente celda define a la función ```operaciones_simples()```, la cual define los parámetros ```x``` y ```y```. "
   ]
  },
  {
   "cell_type": "code",
   "execution_count": null,
   "metadata": {},
   "outputs": [],
   "source": [
    "def operaciones_simples(x, y):\n",
    "    print(x + 1)\n",
    "    z = x * y\n",
    "    print(x * 2)\n",
    "    print(x + y)"
   ]
  },
  {
   "cell_type": "markdown",
   "metadata": {},
   "source": [
    "* La siguiente celda ejecutará la función ```operaciones_simples()``` en modo de depuración, ingresando los argumentos ```x=2``` y ```y=5```"
   ]
  },
  {
   "cell_type": "code",
   "execution_count": null,
   "metadata": {},
   "outputs": [],
   "source": [
    "pdb.runcall(operaciones_simples, x=2, y='3')"
   ]
  },
  {
   "cell_type": "markdown",
   "metadata": {},
   "source": [
    "### La función ```pdb.set_trace()```.\n",
    "\n",
    "Es posible insertar puntos de quiebre dentro de un *script* al invocar la función ```pdb.set_trace()``` dentro del código."
   ]
  },
  {
   "cell_type": "markdown",
   "metadata": {},
   "source": [
    "**Ejemplo:**"
   ]
  },
  {
   "cell_type": "code",
   "execution_count": null,
   "metadata": {},
   "outputs": [],
   "source": [
    "def suma_uno_a_algo(algo):\n",
    "    sin_uso = False\n",
    "    pdb.set_trace()\n",
    "    algo += 1\n",
    "    pdb.set_trace()\n",
    "    return algo"
   ]
  },
  {
   "cell_type": "code",
   "execution_count": null,
   "metadata": {},
   "outputs": [],
   "source": [
    "suma_uno_a_algo(2)"
   ]
  },
  {
   "cell_type": "code",
   "execution_count": null,
   "metadata": {},
   "outputs": [],
   "source": [
    "%run src/03/sumas.py"
   ]
  },
  {
   "cell_type": "markdown",
   "metadata": {},
   "source": [
    "## Depuración en una *notebook* de *Jupyter*."
   ]
  },
  {
   "cell_type": "markdown",
   "metadata": {},
   "source": [
    "### El comando mágico ```%%debug```."
   ]
  },
  {
   "cell_type": "code",
   "execution_count": null,
   "metadata": {},
   "outputs": [],
   "source": [
    "%%debug\n",
    "item = \"Hola\"\n",
    "for item in [\"Hugo\", \"Paco\", \"Luis\"]:\n",
    "    may = item.upper()\n",
    "    print(may)"
   ]
  },
  {
   "cell_type": "markdown",
   "metadata": {},
   "source": [
    "<p style=\"text-align: center\"><a rel=\"license\" href=\"http://creativecommons.org/licenses/by/4.0/\"><img alt=\"Licencia Creative Commons\" style=\"border-width:0\" src=\"https://i.creativecommons.org/l/by/4.0/80x15.png\" /></a><br />Esta obra está bajo una <a rel=\"license\" href=\"http://creativecommons.org/licenses/by/4.0/\">Licencia Creative Commons Atribución 4.0 Internacional</a>.</p>\n",
    "<p style=\"text-align: center\">&copy; José Luis Chiquete Valdivieso. 2020.</p>"
   ]
  }
 ],
 "metadata": {
  "kernelspec": {
   "display_name": "Python 3 (ipykernel)",
   "language": "python",
   "name": "python3"
  },
  "language_info": {
   "codemirror_mode": {
    "name": "ipython",
    "version": 3
   },
   "file_extension": ".py",
   "mimetype": "text/x-python",
   "name": "python",
   "nbconvert_exporter": "python",
   "pygments_lexer": "ipython3",
   "version": "3.9.2"
  }
 },
 "nbformat": 4,
 "nbformat_minor": 2
}
