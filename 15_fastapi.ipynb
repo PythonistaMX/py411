{
 "cells": [
  {
   "cell_type": "markdown",
   "metadata": {},
   "source": [
    "[![img/pythonista.png](img/pythonista.png)](https://www.pythonista.io)"
   ]
  },
  {
   "cell_type": "markdown",
   "metadata": {},
   "source": [
    "# El framework *FastAPI*."
   ]
  },
  {
   "cell_type": "markdown",
   "metadata": {},
   "source": [
    "[*FastAPI*](fastapi.tiangolo.com) es un proyecto mucho más reciente que *Django* y *Flask*, el cual ha adoptado varias innovaciones de *Python 3* y se ha enfocado en la creación y despliegue de *APIs*.\n",
    "\n",
    "*FastAPI* se basa en el framework [*Starlette*](https://www.starlette.io/), el cual le permite poder realizar operaciones asíncronas apegadas a la especificación de [*ASGI*](https://asgi.readthedocs.io/en/latest/). Del mismo modo, aprovecha las características de *Pydantic* para el manejo de esquemas y validación de datos."
   ]
  },
  {
   "cell_type": "markdown",
   "metadata": {},
   "source": [
    "## El servidor *uvicorn*.\n",
    "\n",
    "Para poder ejecutar de forma adecuada las aplicaciones web apegadas a *ASGI* es necesario utilizar servidores web especializado.\n",
    "\n",
    "[*Uvicorn*](https://www.uvicorn.org/) es un servidor web diseñado para ofrecer servicios asíncronos. "
   ]
  },
  {
   "cell_type": "markdown",
   "metadata": {},
   "source": [
    "## La clase *FastAPI*."
   ]
  },
  {
   "cell_type": "code",
   "execution_count": null,
   "metadata": {},
   "outputs": [],
   "source": []
  },
  {
   "cell_type": "markdown",
   "metadata": {},
   "source": [
    "La clase ```fastapi.FastAPI``` es el componente que crea una aplicación al ser intanciado.\n",
    "\n",
    "``` pyhton\n",
    "from fastapi import FastAPI\n",
    "\n",
    "app = FastAPI()\n",
    "```"
   ]
  },
  {
   "cell_type": "markdown",
   "metadata": {},
   "source": [
    "## Decoradores de ruta."
   ]
  },
  {
   "cell_type": "markdown",
   "metadata": {},
   "source": [
    "```\n",
    "@app.<método>(\"ruta\")\n",
    "async def <función>(<args>):\n",
    "    \n",
    "```"
   ]
  },
  {
   "cell_type": "markdown",
   "metadata": {},
   "source": [
    "```\n",
    "@app.<método>(\"ruta\")\n",
    "async def <función>(<args>):\n",
    "    \n",
    "```"
   ]
  },
  {
   "cell_type": "markdown",
   "metadata": {},
   "source": [
    "``` python\n",
    "@app.get('/')\n",
    "async def hola_mundo():\n",
    "    return {\"msg\": \"Hola, Mundo.\"}\n",
    "```"
   ]
  },
  {
   "cell_type": "markdown",
   "metadata": {},
   "source": [
    "## Parámetros."
   ]
  },
  {
   "cell_type": "markdown",
   "metadata": {},
   "source": [
    "Tanto los parámetros de la ruta como los de las consultas pueden se capturados como *kwargs* en la función."
   ]
  },
  {
   "cell_type": "markdown",
   "metadata": {},
   "source": [
    "``` python\n",
    "@app.get('/{clave}')\n",
    "async def procesa_params(clave:str, par1:bool, par2:int):\n",
    "    \n",
    "```"
   ]
  },
  {
   "cell_type": "markdown",
   "metadata": {},
   "source": [
    "## Cuerpo de una petición.\n",
    "\n",
    "El cuerpo de una petición es el último argumento que se ingresa a una función y puede ser capturado usando esquemas de *pydantic*."
   ]
  },
  {
   "cell_type": "code",
   "execution_count": 1,
   "metadata": {},
   "outputs": [
    {
     "name": "stdout",
     "output_type": "stream",
     "text": [
      "Requirement already satisfied: uvicorn in /home/josech/py3/lib/python3.9/site-packages (0.15.0)\n",
      "Requirement already satisfied: fastapi in /home/josech/py3/lib/python3.9/site-packages (0.70.0)\n",
      "Requirement already satisfied: sqlalchemy in /home/josech/py3/lib/python3.9/site-packages (1.4.22)\n",
      "Requirement already satisfied: asgiref>=3.4.0 in /home/josech/py3/lib/python3.9/site-packages (from uvicorn) (3.4.1)\n",
      "Requirement already satisfied: click>=7.0 in /home/josech/py3/lib/python3.9/site-packages (from uvicorn) (8.0.1)\n",
      "Requirement already satisfied: h11>=0.8 in /home/josech/py3/lib/python3.9/site-packages (from uvicorn) (0.12.0)\n",
      "Requirement already satisfied: pydantic!=1.7,!=1.7.1,!=1.7.2,!=1.7.3,!=1.8,!=1.8.1,<2.0.0,>=1.6.2 in /home/josech/py3/lib/python3.9/site-packages (from fastapi) (1.8.2)\n",
      "Requirement already satisfied: starlette==0.16.0 in /home/josech/py3/lib/python3.9/site-packages (from fastapi) (0.16.0)\n",
      "Requirement already satisfied: anyio<4,>=3.0.0 in /home/josech/py3/lib/python3.9/site-packages (from starlette==0.16.0->fastapi) (3.3.0)\n",
      "Requirement already satisfied: greenlet!=0.4.17 in /home/josech/py3/lib/python3.9/site-packages (from sqlalchemy) (1.1.2)\n",
      "Requirement already satisfied: typing-extensions>=3.7.4.3 in /home/josech/py3/lib/python3.9/site-packages (from pydantic!=1.7,!=1.7.1,!=1.7.2,!=1.7.3,!=1.8,!=1.8.1,<2.0.0,>=1.6.2->fastapi) (3.10.0.2)\n",
      "Requirement already satisfied: idna>=2.8 in /home/josech/py3/lib/python3.9/site-packages (from anyio<4,>=3.0.0->starlette==0.16.0->fastapi) (3.2)\n",
      "Requirement already satisfied: sniffio>=1.1 in /home/josech/py3/lib/python3.9/site-packages (from anyio<4,>=3.0.0->starlette==0.16.0->fastapi) (1.2.0)\n"
     ]
    }
   ],
   "source": [
    "! pip install uvicorn fastapi sqlalchemy"
   ]
  },
  {
   "cell_type": "code",
   "execution_count": 2,
   "metadata": {
    "scrolled": true
   },
   "outputs": [
    {
     "name": "stdout",
     "output_type": "stream",
     "text": [
      "/home/josech/Dropbox/Codigo/Pythonista/Cursos/py241/src/fast_api\n"
     ]
    }
   ],
   "source": [
    "%cd src/fast_api"
   ]
  },
  {
   "cell_type": "code",
   "execution_count": null,
   "metadata": {},
   "outputs": [
    {
     "name": "stdout",
     "output_type": "stream",
     "text": [
      "\u001b[32mINFO\u001b[0m:     Will watch for changes in these directories: ['/home/josech/Dropbox/Codigo/Pythonista/Cursos/py241/src/fast_api']\n",
      "\u001b[32mINFO\u001b[0m:     Uvicorn running on \u001b[1mhttp://0.0.0.0:8000\u001b[0m (Press CTRL+C to quit)\n",
      "\u001b[32mINFO\u001b[0m:     Started reloader process [\u001b[36m\u001b[1m1053748\u001b[0m] using \u001b[36m\u001b[1mstatreload\u001b[0m\n",
      "\u001b[32mINFO\u001b[0m:     Started server process [\u001b[36m1053750\u001b[0m]\n",
      "\u001b[32mINFO\u001b[0m:     Waiting for application startup.\n",
      "\u001b[32mINFO\u001b[0m:     Application startup complete.\n",
      "\u001b[32mINFO\u001b[0m:     127.0.0.1:41908 - \"\u001b[1mGET / HTTP/1.1\u001b[0m\" \u001b[31m404 Not Found\u001b[0m\n",
      "\u001b[32mINFO\u001b[0m:     127.0.0.1:41910 - \"\u001b[1mGET /api HTTP/1.1\u001b[0m\" \u001b[33m307 Temporary Redirect\u001b[0m\n",
      "\u001b[32mINFO\u001b[0m:     127.0.0.1:41910 - \"\u001b[1mGET /api/ HTTP/1.1\u001b[0m\" \u001b[32m200 OK\u001b[0m\n",
      "\u001b[32mINFO\u001b[0m:     127.0.0.1:41912 - \"\u001b[1mPOST /api/1231226 HTTP/1.1\u001b[0m\" \u001b[32m200 OK\u001b[0m\n",
      "\u001b[32mINFO\u001b[0m:     127.0.0.1:41914 - \"\u001b[1mPOST /api/1231227 HTTP/1.1\u001b[0m\" \u001b[32m200 OK\u001b[0m\n",
      "\u001b[32mINFO\u001b[0m:     127.0.0.1:41918 - \"\u001b[1mGET /api/ HTTP/1.1\u001b[0m\" \u001b[32m200 OK\u001b[0m\n",
      "\u001b[32mINFO\u001b[0m:     127.0.0.1:41920 - \"\u001b[1mGET /api/ HTTP/1.1\u001b[0m\" \u001b[32m200 OK\u001b[0m\n",
      "\u001b[32mINFO\u001b[0m:     127.0.0.1:41924 - \"\u001b[1mGET /api/1231226 HTTP/1.1\u001b[0m\" \u001b[32m200 OK\u001b[0m\n",
      "\u001b[32mINFO\u001b[0m:     127.0.0.1:41926 - \"\u001b[1mDELETE /api/1231227 HTTP/1.1\u001b[0m\" \u001b[32m200 OK\u001b[0m\n",
      "\u001b[32mINFO\u001b[0m:     127.0.0.1:41928 - \"\u001b[1mGET /api/ HTTP/1.1\u001b[0m\" \u001b[32m200 OK\u001b[0m\n",
      "\u001b[32mINFO\u001b[0m:     127.0.0.1:41930 - \"\u001b[1mGET /docs/ HTTP/1.1\u001b[0m\" \u001b[33m307 Temporary Redirect\u001b[0m\n",
      "\u001b[32mINFO\u001b[0m:     127.0.0.1:41930 - \"\u001b[1mGET /docs HTTP/1.1\u001b[0m\" \u001b[32m200 OK\u001b[0m\n",
      "\u001b[32mINFO\u001b[0m:     127.0.0.1:41930 - \"\u001b[1mGET /openapi.json HTTP/1.1\u001b[0m\" \u001b[32m200 OK\u001b[0m\n",
      "\u001b[32mINFO\u001b[0m:     127.0.0.1:41934 - \"\u001b[1mGET /openapi.json HTTP/1.1\u001b[0m\" \u001b[32m200 OK\u001b[0m\n"
     ]
    }
   ],
   "source": [
    "!uvicorn main:app --host 0.0.0.0 --reload"
   ]
  },
  {
   "cell_type": "markdown",
   "metadata": {},
   "source": [
    "<p style=\"text-align: center\"><a rel=\"license\" href=\"http://creativecommons.org/licenses/by/4.0/\"><img alt=\"Licencia Creative Commons\" style=\"border-width:0\" src=\"https://i.creativecommons.org/l/by/4.0/80x15.png\" /></a><br />Esta obra está bajo una <a rel=\"license\" href=\"http://creativecommons.org/licenses/by/4.0/\">Licencia Creative Commons Atribución 4.0 Internacional</a>.</p>\n",
    "<p style=\"text-align: center\">&copy; José Luis Chiquete Valdivieso. 2021.</p>"
   ]
  }
 ],
 "metadata": {
  "kernelspec": {
   "display_name": "Python 3 (ipykernel)",
   "language": "python",
   "name": "python3"
  },
  "language_info": {
   "codemirror_mode": {
    "name": "ipython",
    "version": 3
   },
   "file_extension": ".py",
   "mimetype": "text/x-python",
   "name": "python",
   "nbconvert_exporter": "python",
   "pygments_lexer": "ipython3",
   "version": "3.9.7"
  }
 },
 "nbformat": 4,
 "nbformat_minor": 2
}
