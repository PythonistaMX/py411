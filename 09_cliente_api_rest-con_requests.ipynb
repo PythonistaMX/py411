{
 "cells": [
  {
   "cell_type": "markdown",
   "metadata": {},
   "source": [
    "[![img/pythonista.png](img/pythonista.png)](https://www.pythonista.io)"
   ]
  },
  {
   "cell_type": "markdown",
   "metadata": {},
   "source": [
    "# Cliente de la *API REST*."
   ]
  },
  {
   "cell_type": "markdown",
   "metadata": {},
   "source": [
    "Esta notebook contiene celdas de código que utilizarán en el endpoint defindo en ```http:\\\\localhost:8000\\api\\<clave>``` las siguientes funciones:\n",
    "\n",
    "* ```requests.get()```.\n",
    "* ```requests.post()```.\n",
    "* ```requests.delete()```."
   ]
  },
  {
   "cell_type": "markdown",
   "metadata": {},
   "source": [
    "* La siguiente celda importará el módulo ```requests```."
   ]
  },
  {
   "cell_type": "code",
   "execution_count": 1,
   "metadata": {},
   "outputs": [],
   "source": [
    "import requests"
   ]
  },
  {
   "cell_type": "markdown",
   "metadata": {},
   "source": [
    " * La siguiente celda se conectará a la URL ```\"http://localhost:8000/api/``` usando el método ```GET``` y la respuesta del servidor *Django* será guardada en el objeto con nombre ```respuesta```."
   ]
  },
  {
   "cell_type": "code",
   "execution_count": 3,
   "metadata": {},
   "outputs": [],
   "source": [
    "respuesta = requests.get(\"http://localhost:8000/api/\")"
   ]
  },
  {
   "cell_type": "code",
   "execution_count": 4,
   "metadata": {},
   "outputs": [
    {
     "data": {
      "text/plain": [
       "200"
      ]
     },
     "execution_count": 4,
     "metadata": {},
     "output_type": "execute_result"
    }
   ],
   "source": [
    "respuesta.status_code"
   ]
  },
  {
   "cell_type": "code",
   "execution_count": 5,
   "metadata": {
    "scrolled": false
   },
   "outputs": [
    {
     "data": {
      "text/plain": [
       "{'respuesta': [{'numero_de_cuenta': 1221,\n",
       "   'nombre': 'Pedro',\n",
       "   'primer_apellido': 'Solis',\n",
       "   'segundo_apellido': 'Cabañas',\n",
       "   'carrera': 'Arquitectura',\n",
       "   'semestre': 3,\n",
       "   'promedio': 7.8,\n",
       "   'al_corriente': False},\n",
       "  {'numero_de_cuenta': 1222,\n",
       "   'nombre': 'Yolanda',\n",
       "   'primer_apellido': 'Jiménez',\n",
       "   'segundo_apellido': 'Lerdo',\n",
       "   'carrera': 'Actuaría',\n",
       "   'semestre': 3,\n",
       "   'promedio': 6.0,\n",
       "   'al_corriente': False},\n",
       "  {'numero_de_cuenta': 1223,\n",
       "   'nombre': 'Juan',\n",
       "   'primer_apellido': 'Ramos',\n",
       "   'segundo_apellido': 'Breña',\n",
       "   'carrera': 'Sistemas',\n",
       "   'semestre': 9,\n",
       "   'promedio': 8.6,\n",
       "   'al_corriente': True},\n",
       "  {'numero_de_cuenta': 1224,\n",
       "   'nombre': 'Mayra Jimena',\n",
       "   'primer_apellido': 'Cervantes',\n",
       "   'segundo_apellido': 'Lisama',\n",
       "   'carrera': 'Derecho',\n",
       "   'semestre': 12,\n",
       "   'promedio': 9.2,\n",
       "   'al_corriente': True}]}"
      ]
     },
     "execution_count": 5,
     "metadata": {},
     "output_type": "execute_result"
    }
   ],
   "source": [
    "respuesta.json()"
   ]
  },
  {
   "cell_type": "markdown",
   "metadata": {},
   "source": [
    " * La siguiente celda se conectará a la URL ```\"http://localhost:8000/api/1223``` usando el método ```GET``` y la respuesta del servidor *Django* será guardada en el objeto con nombre ```respuesta```."
   ]
  },
  {
   "cell_type": "code",
   "execution_count": 6,
   "metadata": {},
   "outputs": [],
   "source": [
    "respuesta = requests.get(\"http://localhost:8000/api/1223\")"
   ]
  },
  {
   "cell_type": "markdown",
   "metadata": {},
   "source": [
    "* En este casó existe en la base de datos un alumno con número de cuenta ```1223```, por lo que el servidor *Django* regresará los datos de dicho alumno."
   ]
  },
  {
   "cell_type": "code",
   "execution_count": 7,
   "metadata": {},
   "outputs": [
    {
     "data": {
      "text/plain": [
       "200"
      ]
     },
     "execution_count": 7,
     "metadata": {},
     "output_type": "execute_result"
    }
   ],
   "source": [
    "respuesta.status_code"
   ]
  },
  {
   "cell_type": "code",
   "execution_count": 8,
   "metadata": {
    "scrolled": true
   },
   "outputs": [
    {
     "data": {
      "text/plain": [
       "{'numero_de_cuenta': 1223,\n",
       " 'nombre': 'Juan',\n",
       " 'primer_apellido': 'Ramos',\n",
       " 'segundo_apellido': 'Breña',\n",
       " 'carrera': 'Sistemas',\n",
       " 'semestre': 9,\n",
       " 'promedio': 8.6,\n",
       " 'al_corriente': True}"
      ]
     },
     "execution_count": 8,
     "metadata": {},
     "output_type": "execute_result"
    }
   ],
   "source": [
    "respuesta.json()"
   ]
  },
  {
   "cell_type": "markdown",
   "metadata": {},
   "source": [
    " * La siguiente celda se conectará a la URL ```\"http://localhost:8000/api/3000``` usando el método ```GET``` y la respuesta del servidor *Django* será guardada en el objeto con nombre ```respuesta```."
   ]
  },
  {
   "cell_type": "code",
   "execution_count": 9,
   "metadata": {},
   "outputs": [],
   "source": [
    "respuesta = requests.get(\"http://localhost:8000/api/3000\")"
   ]
  },
  {
   "cell_type": "markdown",
   "metadata": {},
   "source": [
    "* La base de datos de la aplicación no contiene un objeto con ese número de cuenta."
   ]
  },
  {
   "cell_type": "code",
   "execution_count": 11,
   "metadata": {},
   "outputs": [
    {
     "data": {
      "text/plain": [
       "404"
      ]
     },
     "execution_count": 11,
     "metadata": {},
     "output_type": "execute_result"
    }
   ],
   "source": [
    "respuesta.status_code"
   ]
  },
  {
   "cell_type": "code",
   "execution_count": 12,
   "metadata": {},
   "outputs": [
    {
     "data": {
      "text/plain": [
       "b''"
      ]
     },
     "execution_count": 12,
     "metadata": {},
     "output_type": "execute_result"
    }
   ],
   "source": [
    "respuesta.content"
   ]
  },
  {
   "cell_type": "markdown",
   "metadata": {},
   "source": [
    "* La siguiente celda creará un objeto de tipo ```dict``` que contiene una estructrua de datos compatible con el modelo ```Alumno```."
   ]
  },
  {
   "cell_type": "code",
   "execution_count": 5,
   "metadata": {},
   "outputs": [],
   "source": [
    "datos ={'nombre':'Juan', 'primer_apellido': 'Escutia', 'segundo_apellido':'Aventado', \n",
    "        'carrera':'Arquitectura', 'semestre':1, 'promedio':10, 'al_corriente':True,}"
   ]
  },
  {
   "cell_type": "code",
   "execution_count": 6,
   "metadata": {},
   "outputs": [],
   "source": [
    "respuesta = requests.post(\"http://localhost:8000/api/1221\", data=datos)"
   ]
  },
  {
   "cell_type": "code",
   "execution_count": 7,
   "metadata": {},
   "outputs": [
    {
     "data": {
      "text/plain": [
       "400"
      ]
     },
     "execution_count": 7,
     "metadata": {},
     "output_type": "execute_result"
    }
   ],
   "source": [
    "respuesta.status_code"
   ]
  },
  {
   "cell_type": "code",
   "execution_count": 16,
   "metadata": {
    "scrolled": true
   },
   "outputs": [
    {
     "data": {
      "text/plain": [
       "{'nombre': 'Juan',\n",
       " 'primer_apellido': 'Escutia',\n",
       " 'segundo_apellido': 'Aventado',\n",
       " 'carrera': 'Arquitectura',\n",
       " 'semestre': '1',\n",
       " 'promedio': '10',\n",
       " 'al_corriente': 'True',\n",
       " 'numero_de_cuenta': '1229'}"
      ]
     },
     "execution_count": 16,
     "metadata": {},
     "output_type": "execute_result"
    }
   ],
   "source": [
    "respuesta.json()"
   ]
  },
  {
   "cell_type": "markdown",
   "metadata": {},
   "source": [
    "* La siguiente celda enviará nuevamente los datos a la URL ```http://localhost:8000/api/1229```."
   ]
  },
  {
   "cell_type": "code",
   "execution_count": 17,
   "metadata": {},
   "outputs": [],
   "source": [
    "respuesta = requests.post(\"http://localhost:8000/api/1229\", data=datos)"
   ]
  },
  {
   "cell_type": "markdown",
   "metadata": {},
   "source": [
    "* Debido a que ya existe un objeto con la clave ```1229```, ap respuesta es un estado ```400```."
   ]
  },
  {
   "cell_type": "code",
   "execution_count": 18,
   "metadata": {},
   "outputs": [
    {
     "data": {
      "text/plain": [
       "400"
      ]
     },
     "execution_count": 18,
     "metadata": {},
     "output_type": "execute_result"
    }
   ],
   "source": [
    "respuesta.status_code"
   ]
  },
  {
   "cell_type": "markdown",
   "metadata": {},
   "source": []
  },
  {
   "cell_type": "code",
   "execution_count": 37,
   "metadata": {},
   "outputs": [],
   "source": [
    "datos ={'nombre':'Agustín',\n",
    "        'carrera':'Actuaría', 'semestre':1, 'promedio':10, 'al_corriente':True,}"
   ]
  },
  {
   "cell_type": "code",
   "execution_count": 38,
   "metadata": {},
   "outputs": [],
   "source": [
    "respuesta = requests.post(\"http://localhost:8000/api/1230\", data=datos)"
   ]
  },
  {
   "cell_type": "code",
   "execution_count": 39,
   "metadata": {
    "scrolled": true
   },
   "outputs": [
    {
     "data": {
      "text/plain": [
       "400"
      ]
     },
     "execution_count": 39,
     "metadata": {},
     "output_type": "execute_result"
    }
   ],
   "source": [
    "respuesta.status_code"
   ]
  },
  {
   "cell_type": "markdown",
   "metadata": {},
   "source": [
    "* La siguiente celda accederá a la URL ```http://localhost:8000/api/1225``` con el método ```DELETE```."
   ]
  },
  {
   "cell_type": "code",
   "execution_count": 40,
   "metadata": {},
   "outputs": [],
   "source": [
    "respuesta = requests.delete(\"http://localhost:8000/api/1225\")"
   ]
  },
  {
   "cell_type": "code",
   "execution_count": 41,
   "metadata": {},
   "outputs": [
    {
     "data": {
      "text/plain": [
       "200"
      ]
     },
     "execution_count": 41,
     "metadata": {},
     "output_type": "execute_result"
    }
   ],
   "source": [
    "respuesta.status_code"
   ]
  },
  {
   "cell_type": "code",
   "execution_count": 42,
   "metadata": {},
   "outputs": [
    {
     "data": {
      "text/plain": [
       "{'estado': 'eliminado'}"
      ]
     },
     "execution_count": 42,
     "metadata": {},
     "output_type": "execute_result"
    }
   ],
   "source": [
    "respuesta.json()"
   ]
  },
  {
   "cell_type": "markdown",
   "metadata": {},
   "source": [
    "<p style=\"text-align: center\"><a rel=\"license\" href=\"http://creativecommons.org/licenses/by/4.0/\"><img alt=\"Licencia Creative Commons\" style=\"border-width:0\" src=\"https://i.creativecommons.org/l/by/4.0/80x15.png\" /></a><br />Esta obra está bajo una <a rel=\"license\" href=\"http://creativecommons.org/licenses/by/4.0/\">Licencia Creative Commons Atribución 4.0 Internacional</a>.</p>\n",
    "<p style=\"text-align: center\">&copy; José Luis Chiquete Valdivieso. 2019.</p>"
   ]
  }
 ],
 "metadata": {
  "kernelspec": {
   "display_name": "Python 3",
   "language": "python",
   "name": "python3"
  },
  "language_info": {
   "codemirror_mode": {
    "name": "ipython",
    "version": 3
   },
   "file_extension": ".py",
   "mimetype": "text/x-python",
   "name": "python",
   "nbconvert_exporter": "python",
   "pygments_lexer": "ipython3",
   "version": "3.7.7"
  }
 },
 "nbformat": 4,
 "nbformat_minor": 2
}
