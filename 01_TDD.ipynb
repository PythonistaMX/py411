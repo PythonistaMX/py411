{
 "cells": [
  {
   "cell_type": "markdown",
   "metadata": {},
   "source": [
    "<a href=\"https://pythonista.io\"> <img src=\"img/pythonista.png\"></a>"
   ]
  },
  {
   "cell_type": "markdown",
   "metadata": {},
   "source": [
    "# Desarrollo Dirigido por Pruebas (TDD).\n",
    "\n",
    "Es una práctica cuyo objetivos es lograr un código limpio, seguro y que funcione. \n",
    "\n",
    "La idea es que los requerimientos sean traducidos en pruebas, de este modo, cuando las pruebas pasen se garantizará que el software cumple con los requisitos que se han establecido. "
   ]
  },
  {
   "cell_type": "markdown",
   "metadata": {},
   "source": [
    "## Conceptos relacionados."
   ]
  },
  {
   "cell_type": "markdown",
   "metadata": {},
   "source": [
    "### Deuda técnica.\n",
    "\n",
    "Es el costo que implica retrabajar un artefacto por causas de su pobre desarrollo en etapas tempranas del ciclo de vida."
   ]
  },
  {
   "cell_type": "markdown",
   "metadata": {},
   "source": [
    "### Escribir las pruebas primero (Test First Development).\n",
    "\n",
    "Consiste en crear pruebas para cada funcionalidad que debe cumplir el producto de software."
   ]
  },
  {
   "cell_type": "markdown",
   "metadata": {},
   "source": [
    "### Refactorización.\n",
    "\n",
    "Es la acción de reescribir el código de un componente de software sin afectar su comportamiento."
   ]
  },
  {
   "cell_type": "markdown",
   "metadata": {},
   "source": [
    "<img src=\"img/01/TDD_Lifecycle.png\" width=\"800\">"
   ]
  },
  {
   "cell_type": "markdown",
   "metadata": {},
   "source": [
    "## Tipos de pruebas."
   ]
  },
  {
   "cell_type": "markdown",
   "metadata": {},
   "source": [
    "### Pruebas funcionales.\n",
    "\n",
    "Fuente: https://hackr.io/blog/types-of-software-testing\n",
    "\n",
    "* **Pruebas unitarias.** Evalúan el correcto funcionamiento de cada componente de código\n",
    "* **Pruebas de integración.** Evalúan el funcionamiento del sistema a partir de la inclusión de nuevos componentes.\n",
    "* **Pruebas de extremo a extremo**. Evalúa que cada componente de software de un proceso funciones correctamente de principio a fin.\n",
    "* **Pruebas de humo**. Son pruebas no exhaustivas que se le hacen a un producto de software previo a su liberación a producción para validar que las funcionalodades primordiales funcionan correctamente.\n",
    "* **Pruebas de sanidad**. Son pruebas superficiales de los puntos más relevantes de un producto de software.\n",
    "* **Pruebas de regresión**. Son pruebas exhaustivas que se hacen para validar que el sistema funciona correctamente después de cierto tiempo de estar en producción. \n",
    "* **Pruebas de aceptación**. Son pruebas que validan al funcionalidad del producto ante el cliente.\n",
    "* **Pruebas de caja blanca**. Son pruebas que inciden en la lógica interna de los componentes. \n",
    "* **Pruebas de caja negra**. Son pruebas que inciden en el comportamiento de los componentes. \n",
    "* **Pruebas de interfaz** Son pruebas sobre los puntos de acceso de los componentes de un sistema."
   ]
  },
  {
   "cell_type": "markdown",
   "metadata": {},
   "source": [
    "### Pruebas no funcionales.\n",
    "\n",
    "* **Pruebas de rendimiento**. Evalúan el uso de recursos de un sistema.\n",
    "* **Pruebas de seguridad**. Evalúan las posibles vulnerabildiades de un sistema.\n",
    "* **Pruebas de carga**. Evalúan la capacidad de un sistema ante cierto tipo de cargas de uso.\n",
    "* **Pruebas de fallo**. Evalúan la resiliencia de un sistema.\n",
    "* **Pruebas de compatibilidad**. Evalúan si un sistema puede interactuar con otros.\n",
    "* **Pruebas de usabilidad**. Evalúan la experiencia general del uso de un sistema.\n",
    "* **Pruebas de escalabilidad**. Evalúan la capacidad de crecer en cuestión de recursos de un sistema.\n",
    "* **Pruebas de volumen**. Evalúan la capacidad de un sistema de gestionar grandes cantidades de datos.\n",
    "* **Pruebas de estrés**. Evalúan el comportamiento de un sistema cuando se encuentra al límite de sus capacidades.\n",
    "* **Pruebas de mantenibilidad**. Evalúan la facilidad de mantenimiento de un sistema. \n",
    "* **Pruebas de cumplimiento (compliance)**. Evalúan si un sistema cumple con la normatividad aplicable.\n",
    "* **Pruebas de eficiencia**. Evalúan si el sistema cumple con los objetivos funcionales, en tiempo razonable.\n",
    "* **Pruebas de confiabilidad** Evalúan la disponibilidad y madurez de los procesos dentro del sistema.\n",
    "* **Pruebas de resistencia.** Evalúa la operación del sistema con carga en tiempos largos. \n",
    "* **Pruebas de recuperación ante desastres**. Evalúa la capacidad de un sistema para restablecer sus funcionalidades en caso de una emergencia crítica, así comod e mitgar riesgos.\n",
    "* **Pruebas de localización**. Evalúa la capacidad de un sistema de poder ofercer servicios homogeneos a usuarios de diversas zonas geográficas.\n",
    "* **Pruebas de internacionalización**. Evalúa la capacidad de un sistema de poder ofercer servicios homogeneos a usuarios de diversas zonas geográficas a novel internacional.\n"
   ]
  },
  {
   "cell_type": "markdown",
   "metadata": {},
   "source": [
    "<p style=\"text-align: center\"><a rel=\"license\" href=\"http://creativecommons.org/licenses/by/4.0/\"><img alt=\"Licencia Creative Commons\" style=\"border-width:0\" src=\"https://i.creativecommons.org/l/by/4.0/80x15.png\" /></a><br />Esta obra está bajo una <a rel=\"license\" href=\"http://creativecommons.org/licenses/by/4.0/\">Licencia Creative Commons Atribución 4.0 Internacional</a>.</p>\n",
    "<p style=\"text-align: center\">&copy; José Luis Chiquete Valdivieso. 2020.</p>"
   ]
  }
 ],
 "metadata": {
  "kernelspec": {
   "display_name": "Bash",
   "language": "bash",
   "name": "bash"
  },
  "language_info": {
   "codemirror_mode": "shell",
   "file_extension": ".sh",
   "mimetype": "text/x-sh",
   "name": "bash"
  }
 },
 "nbformat": 4,
 "nbformat_minor": 2
}
