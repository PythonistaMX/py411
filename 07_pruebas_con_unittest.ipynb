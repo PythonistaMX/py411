{
 "cells": [
  {
   "cell_type": "markdown",
   "metadata": {},
   "source": [
    "<a href=\"https://pythonista.io\"> <img src=\"img/pythonista.png\"></a>"
   ]
  },
  {
   "cell_type": "markdown",
   "metadata": {},
   "source": [
    "# Pruebas con ```unittest```."
   ]
  },
  {
   "cell_type": "markdown",
   "metadata": {},
   "source": [
    "## Conceptos relacionados."
   ]
  },
  {
   "cell_type": "markdown",
   "metadata": {},
   "source": [
    "### *Fixtures*."
   ]
  },
  {
   "cell_type": "markdown",
   "metadata": {},
   "source": [
    "### *Mocks*."
   ]
  },
  {
   "cell_type": "markdown",
   "metadata": {},
   "source": [
    "https://docs.python.org/3/library/unittest.html"
   ]
  },
  {
   "cell_type": "code",
   "execution_count": 1,
   "metadata": {},
   "outputs": [],
   "source": [
    "import unittest"
   ]
  },
  {
   "cell_type": "markdown",
   "metadata": {},
   "source": [
    "## La clase ```unittest. TestCase```."
   ]
  },
  {
   "cell_type": "code",
   "execution_count": null,
   "metadata": {},
   "outputs": [],
   "source": [
    "unittest.TestCase"
   ]
  },
  {
   "cell_type": "markdown",
   "metadata": {},
   "source": [
    "|Método|Validación|\n",
    "|:----:|:----------:|\n",
    "| ```assertEqual(a, b)```|```a == b```|\n",
    "|```assertNotEqual(a, b)```|```a != b```|\n",
    "|```assertTrue(x)```|```bool(x) is True```|\n",
    "|```assertFalse(x)```|```bool(x) is False```|\n",
    "|```assertIs(a, b)```|```a is b```|\n",
    "|```assertIsNot(a, b)```|```a is not b```|\n",
    "|```assertIsNone(x)```|```x is None```|\n",
    "|```assertIsNotNone(x)```|```x is not None```|\n",
    "|```assertIn(a, b)```|```a in b```|\n",
    "|```assertNotIn(a, b)```|```a not in b```|\n",
    "|```assertIsInstance(a, b)```|```isinstance(a, b)```|\n",
    "|```assertNotIsInstance(a, b)```|```not isinstance(a, b)```|\n",
    "|```assertAlmostEqual(a, b)``` |```round(a-b, 7) == 0```|\n",
    "|```assertNotAlmostEqual(a, b)```|```round(a-b, 7) != 0```|\n",
    "|```assertGreater(a, b)```|```a > b```|\n",
    "|```assertGreaterEqual(a, b)```|```a >= b```|\n",
    "|```assertLess(a, b)```|```a < b```|\n",
    "|```assertLessEqual(a, b)```|```a <= b```|\n",
    "|```assertRegex(s, r)```|```r.search(s)```|\n",
    "|```assertNotRegex(s, r)```|```not r.search(s)```|\n",
    "|```assertCountEqual(a, b)```|```a``` y ```b``` tienen los mismos elementos en la misma cantidad|.\n",
    "\t\n",
    "\n",
    "3.2"
   ]
  },
  {
   "cell_type": "markdown",
   "metadata": {},
   "source": [
    "### Método ```unittest.TestCase.SetUp()```."
   ]
  },
  {
   "cell_type": "markdown",
   "metadata": {},
   "source": [
    "### Método ```unittest.TestCase.TearDown()```."
   ]
  },
  {
   "cell_type": "code",
   "execution_count": 26,
   "metadata": {},
   "outputs": [],
   "source": [
    "objeto_de_prueba = PruebadeNumero()"
   ]
  },
  {
   "cell_type": "code",
   "execution_count": 27,
   "metadata": {},
   "outputs": [],
   "source": [
    "objeto_de_prueba.numeroEnColeccion(5, [12, 5, 32])"
   ]
  },
  {
   "cell_type": "code",
   "execution_count": 29,
   "metadata": {},
   "outputs": [
    {
     "ename": "AttributeError",
     "evalue": "'PruebadeNumero' object has no attribute 'results'",
     "output_type": "error",
     "traceback": [
      "\u001b[1;31m---------------------------------------------------------------------------\u001b[0m",
      "\u001b[1;31mAttributeError\u001b[0m                            Traceback (most recent call last)",
      "\u001b[1;32m<ipython-input-29-8f4ec2e33c8d>\u001b[0m in \u001b[0;36m<module>\u001b[1;34m\u001b[0m\n\u001b[1;32m----> 1\u001b[1;33m \u001b[0mobjeto_de_prueba\u001b[0m\u001b[1;33m.\u001b[0m\u001b[0mresults\u001b[0m\u001b[1;33m\u001b[0m\u001b[1;33m\u001b[0m\u001b[0m\n\u001b[0m",
      "\u001b[1;31mAttributeError\u001b[0m: 'PruebadeNumero' object has no attribute 'results'"
     ]
    }
   ],
   "source": [
    "objeto_de_prueba.results"
   ]
  },
  {
   "cell_type": "code",
   "execution_count": null,
   "metadata": {},
   "outputs": [],
   "source": []
  },
  {
   "cell_type": "code",
   "execution_count": null,
   "metadata": {},
   "outputs": [],
   "source": []
  },
  {
   "cell_type": "code",
   "execution_count": 2,
   "metadata": {},
   "outputs": [],
   "source": [
    "from unittest.mock import Mock"
   ]
  },
  {
   "cell_type": "code",
   "execution_count": 4,
   "metadata": {},
   "outputs": [
    {
     "name": "stderr",
     "output_type": "stream",
     "text": [
      "test_isupper (__main__.TestStringMethods) ... ok\n",
      "test_split (__main__.TestStringMethods) ... ok\n",
      "test_upper (__main__.TestStringMethods) ... ok\n",
      "\n",
      "----------------------------------------------------------------------\n",
      "Ran 3 tests in 0.003s\n",
      "\n",
      "OK\n"
     ]
    }
   ],
   "source": [
    "%run  src/06/prueba_unittest.py -v"
   ]
  },
  {
   "cell_type": "markdown",
   "metadata": {},
   "source": [
    "<p style=\"text-align: center\"><a rel=\"license\" href=\"http://creativecommons.org/licenses/by/4.0/\"><img alt=\"Licencia Creative Commons\" style=\"border-width:0\" src=\"https://i.creativecommons.org/l/by/4.0/80x15.png\" /></a><br />Esta obra está bajo una <a rel=\"license\" href=\"http://creativecommons.org/licenses/by/4.0/\">Licencia Creative Commons Atribución 4.0 Internacional</a>.</p>\n",
    "<p style=\"text-align: center\">&copy; José Luis Chiquete Valdivieso. 2020.</p>"
   ]
  }
 ],
 "metadata": {
  "kernelspec": {
   "display_name": "Python 3",
   "language": "python",
   "name": "python3"
  },
  "language_info": {
   "codemirror_mode": {
    "name": "ipython",
    "version": 3
   },
   "file_extension": ".py",
   "mimetype": "text/x-python",
   "name": "python",
   "nbconvert_exporter": "python",
   "pygments_lexer": "ipython3",
   "version": "3.7.6"
  }
 },
 "nbformat": 4,
 "nbformat_minor": 2
}
