{
 "cells": [
  {
   "cell_type": "markdown",
   "metadata": {},
   "source": [
    "<a href=\"https://www.pythonista.io\"> <img src=\"img/pythonista.png\"></a>"
   ]
  },
  {
   "cell_type": "markdown",
   "metadata": {},
   "source": [
    "# *Linters* en *Python*."
   ]
  },
  {
   "cell_type": "markdown",
   "metadata": {},
   "source": [
    "Un *linter* (removedor de pelusa) es una herramienta que permite validar que el código se apega a las reglas de estilo y mejores prácticas del lenguaje. Los *linters* más avanzados son capaces incluso de analizar la calidad del código basado en patrones específicos."
   ]
  },
  {
   "cell_type": "markdown",
   "metadata": {},
   "source": [
    "## ```flake8```.\n",
    "\n",
    "[```flake8```](https://flake8.pycqa.org/en/latest/) es un *linter* que permite validar que el código cumpla con las regals de estilo definidas en el [*PEP-8*](https://pep8.org/).\n",
    "\n",
    "La documentación de ```flake8``` está disponibe en:\n",
    "\n",
    "\n",
    "\n",
    "https://flake8.pycqa.org/en/latest/manpage.html"
   ]
  },
  {
   "cell_type": "code",
   "execution_count": null,
   "metadata": {
    "scrolled": true
   },
   "outputs": [],
   "source": [
    "!pip install flake8"
   ]
  },
  {
   "cell_type": "markdown",
   "metadata": {},
   "source": [
    "### Ejecución de  ```flake8```desde la línea de comandos.\n",
    "\n",
    "```flake8``` puede ser ejecutado como un comando desde la terminal.\n",
    "\n",
    "```\n",
    "flake8 <ruta>\n",
    "```\n",
    "\n",
    "Donde:\n",
    "\n",
    "* ```<ruta>``` es la ruta al directorio o el archivo que será analizado. En caso de no inclior una ruta, ```flake8``` identificará todos los archivos con extensión ```.py``` a partir del directorio actual de la terminal así como en sus subdirectorios."
   ]
  },
  {
   "cell_type": "markdown",
   "metadata": {},
   "source": [
    "El comando ```flake8``` enlistará cada no conformidad del código de la siguiente manera:\n",
    "\n",
    "```\n",
    "<ruta>:<lin>:<col>: <clave> <descripción>\n",
    "```\n",
    "\n",
    "Donde:\n",
    "\n",
    "* ```<ruta>``` es la ruta del script analizado.\n",
    "* ```<lin>``` es el número de línea en el que se encuentra la no conformidad.\n",
    "* ```<col>``` es el número de columna en el que se encuentra la no conformidad.\n",
    "* ```<clave>``` es una cadena compuesta por un caracter seguido de un número.\n",
    "    * El caracter puede ser una ```E``` en caso de que se trate de un error o una ```W``` en caso de que se  trate de una advertencia. \n",
    "    * El número corresponde al código del error.\n",
    "* ```<descripción>``` es un texto que describe del error."
   ]
  },
  {
   "cell_type": "markdown",
   "metadata": {},
   "source": [
    "**Ejemplo:**"
   ]
  },
  {
   "cell_type": "markdown",
   "metadata": {},
   "source": [
    "El script ```src/02/noconforme.py``` contiene código que aún cuando cumple con la sintaxis de *Python*, no cumple con varias reglas de estilo definidas en el *PEP-8*.\n",
    "\n",
    "``` python\n",
    "#! /usr/bin/env python3\n",
    "\n",
    "print(\"Esta es una línea de código que es demasiado larga y no cumple con el PEP-8, el cual indica que no debe de pasar de 80 caracteres\")\n",
    "\n",
    "\n",
    "#Usamos tabuladores en vez de espacios.\n",
    "for i in  range(3):\n",
    "    print(i)\n",
    "```"
   ]
  },
  {
   "cell_type": "markdown",
   "metadata": {},
   "source": [
    "* La siguiente celda ejecutará el script ```src/02/noconforme.py```."
   ]
  },
  {
   "cell_type": "code",
   "execution_count": null,
   "metadata": {},
   "outputs": [],
   "source": [
    "%run src/02/noconfome.py"
   ]
  },
  {
   "cell_type": "markdown",
   "metadata": {},
   "source": [
    "* La siguiente celda ejecutará el comando ```flake8``` desde el directorio ```src/02```."
   ]
  },
  {
   "cell_type": "code",
   "execution_count": null,
   "metadata": {},
   "outputs": [],
   "source": [
    "!flake8 src/02"
   ]
  },
  {
   "cell_type": "markdown",
   "metadata": {},
   "source": [
    "## ```pylint```.\n",
    "\n",
    "[```pylint```](https://www.pylint.org/) es un *linter* avanzado capaz de detectar no sólo no conformidades con el *PEP-8*, sino una gran cantidad de errores de codificación.\n",
    "\n",
    "\n",
    "La documentación de ```pylint``` puede ser consultada desde:\n",
    "\n",
    "https://pylint.readthedocs.io/en/latest/index.html"
   ]
  },
  {
   "cell_type": "code",
   "execution_count": null,
   "metadata": {},
   "outputs": [],
   "source": [
    "!pip install pylint"
   ]
  },
  {
   "cell_type": "markdown",
   "metadata": {},
   "source": [
    "### Ejecución de  ```pylint``` desde la línea de comandos.\n",
    "\n",
    "```pylint``` puede ser ejecutado como un comando desde la terminal.\n",
    "\n",
    "```\n",
    "pylint <ruta>\n",
    "```\n",
    "\n",
    "Donde:\n",
    "\n",
    "* ```<ruta>``` es la ruta al directorio o el archivo que será analizado que será tratado como un paquete o un módulo."
   ]
  },
  {
   "cell_type": "markdown",
   "metadata": {},
   "source": [
    "**Ejemplo:**"
   ]
  },
  {
   "cell_type": "markdown",
   "metadata": {},
   "source": [
    "* La siguiente celda ejecutará el comando ```pylint``` para analizar el script ```src/02/noconfome.py```."
   ]
  },
  {
   "cell_type": "code",
   "execution_count": null,
   "metadata": {
    "scrolled": true
   },
   "outputs": [],
   "source": [
    "!pylint src/02/noconfome.py"
   ]
  },
  {
   "cell_type": "markdown",
   "metadata": {},
   "source": [
    "## Validación de anotaciones de tipo con ```mypy```."
   ]
  },
  {
   "cell_type": "markdown",
   "metadata": {},
   "source": [
    "Desde de *Python 3.6* se publicó la [*PEP-484*](https://www.python.org/dev/peps/pep-0484/) la cual permite realizar anotaciones de tipo para la asignación de objetos, así como para la definición de funciones y métodos.\n",
    "\n",
    "Aún cuando *Python* sigue siendo un lenguaje de tipado dimámico por defecto, las anotaciones de tipo permiten utilizar herramientas que refuercen la especificación de la *PEP-484*.\n",
    "\n",
    "[```mypy```](http://mypy-lang.org/) es un *linter* que permite validar el uso correcto de las anotaciones de tipo.\n",
    "\n",
    "La documentaci;ón de ```mypy```está disponible en: \n",
    "\n",
    "https://mypy.readthedocs.io/en/stable/"
   ]
  },
  {
   "cell_type": "code",
   "execution_count": null,
   "metadata": {
    "scrolled": true
   },
   "outputs": [],
   "source": [
    "!pip install mypy"
   ]
  },
  {
   "cell_type": "markdown",
   "metadata": {},
   "source": [
    "#### Ejecución de  ```mypy``` desde la línea de comandos.\n",
    "\n",
    "```mypy``` puede ser ejecutado como un comando desde la terminal.\n",
    "\n",
    "```\n",
    "mypy <ruta>\n",
    "```\n",
    "\n",
    "Donde:\n",
    "\n",
    "* ```<ruta>``` es la ruta al archivo que será analizado."
   ]
  },
  {
   "cell_type": "markdown",
   "metadata": {},
   "source": [
    "**Ejemplo:**"
   ]
  },
  {
   "cell_type": "markdown",
   "metadata": {},
   "source": [
    "* El script ```src/02/anotaciones_de_tipo.py``` contiene el siguiente código que se apega al *PEP-484*.\n",
    "\n",
    "``` python\n",
    "#! /usr/bin/env python3\n",
    "'''Script que demuestra el uso de las anotaciones de tipo'''\n",
    "from typing import List\n",
    "\n",
    "\n",
    "def promedio(poblacion: List[float]) -> float:\n",
    "    '''Función que calcula el promedio de una población\n",
    "    ingresada como argumento.'''\n",
    "    return sum(poblacion) / len(poblacion)\n",
    "\n",
    "\n",
    "if __name__ == '__main__':\n",
    "    # La siguiente línea es correcta\n",
    "    print(promedio([1, 2, 3, 4]))\n",
    "    # La siguiente línea es incorrecta y generará una excepción TypeError\n",
    "    print(promedio(1, 2, 3, 4))\n",
    "\n",
    "```"
   ]
  },
  {
   "cell_type": "markdown",
   "metadata": {},
   "source": [
    "* La siguiente celda ejecutará el script ```src/02/anotaciones_de_tipo.py```."
   ]
  },
  {
   "cell_type": "code",
   "execution_count": null,
   "metadata": {
    "scrolled": true
   },
   "outputs": [],
   "source": [
    "%run src/02/anotaciones_de_tipo.py"
   ]
  },
  {
   "cell_type": "markdown",
   "metadata": {},
   "source": [
    "* La siguiente celda analizará al script ```src/02/anotaciones_de_tipo.py``` mediante ```mypy```."
   ]
  },
  {
   "cell_type": "code",
   "execution_count": null,
   "metadata": {},
   "outputs": [],
   "source": [
    "!mypy src/02/anotaciones_de_tipo.py"
   ]
  },
  {
   "cell_type": "markdown",
   "metadata": {},
   "source": [
    "### La extensión ```mypy_ipython```.\n",
    "\n",
    "Es posible aplicar las funcionalidades de ```mypy``` dentro de una *notebook* mediante la extensión [```mypy_ipython```](https://github.com/moshez/mypy_ipython), la cual permite utilizar el comando mágico ```%mypy```para validar una celda de código quer cumpla con el *PEP-484*."
   ]
  },
  {
   "cell_type": "code",
   "execution_count": null,
   "metadata": {},
   "outputs": [],
   "source": [
    "!pip install mypy_ipython"
   ]
  },
  {
   "cell_type": "code",
   "execution_count": null,
   "metadata": {},
   "outputs": [],
   "source": [
    "%load_ext mypy_ipython"
   ]
  },
  {
   "cell_type": "code",
   "execution_count": null,
   "metadata": {},
   "outputs": [],
   "source": [
    "%mypy\n",
    "\n",
    "\n",
    "def saluda(nombre: str) -> str:\n",
    "    return nombre / 2\n",
    "\n",
    "\n",
    "saluda(1)"
   ]
  },
  {
   "cell_type": "markdown",
   "metadata": {},
   "source": [
    "<p style=\"text-align: center\"><a rel=\"license\" href=\"http://creativecommons.org/licenses/by/4.0/\"><img alt=\"Licencia Creative Commons\" style=\"border-width:0\" src=\"https://i.creativecommons.org/l/by/4.0/80x15.png\" /></a><br />Esta obra está bajo una <a rel=\"license\" href=\"http://creativecommons.org/licenses/by/4.0/\">Licencia Creative Commons Atribución 4.0 Internacional</a>.</p>\n",
    "<p style=\"text-align: center\">&copy; José Luis Chiquete Valdivieso. 2020.</p>"
   ]
  }
 ],
 "metadata": {
  "kernelspec": {
   "display_name": "Python 3",
   "language": "python",
   "name": "python3"
  },
  "language_info": {
   "codemirror_mode": {
    "name": "ipython",
    "version": 3
   },
   "file_extension": ".py",
   "mimetype": "text/x-python",
   "name": "python",
   "nbconvert_exporter": "python",
   "pygments_lexer": "ipython3",
   "version": "3.7.7"
  }
 },
 "nbformat": 4,
 "nbformat_minor": 2
}
