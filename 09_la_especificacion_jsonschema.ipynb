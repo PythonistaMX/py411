{
 "cells": [
  {
   "cell_type": "markdown",
   "metadata": {},
   "source": [
    "[![img/pythonista.png](img/pythonista.png)](https://www.pythonista.io)"
   ]
  },
  {
   "cell_type": "markdown",
   "metadata": {},
   "source": [
    "# La especificación *JSON Schema*."
   ]
  },
  {
   "cell_type": "markdown",
   "metadata": {},
   "source": [
    "## El formato *JSON*."
   ]
  },
  {
   "cell_type": "markdown",
   "metadata": {},
   "source": [
    "*JSON* es el acrónimo de *Javascript Object Notation* y antes de las modificaciones publicadas en el estándar [*ECMAScript 2015*](https://www.ecma-international.org/ecma-262/6.0/), correspondía al modo en el que se definen objetos en *Javascript*. Sin embargo, la notación es tan simple y práctica que ha sido adoptada como un formato para la transmisión de datos y ha evolucionado de forma paralela a *Javascript*.\n",
    "\n",
    "Para aprender más acerca de *JSON* es posible consultar la siguiente liga:\n",
    "\n",
    "https://www.w3schools.com/js/js_json_intro.asp"
   ]
  },
  {
   "cell_type": "markdown",
   "metadata": {},
   "source": [
    "### Tipos básicos de *JSON*.\n",
    "\n",
    "* Cadenas de caracteres.\n",
    "* Números.\n",
    "* Boolenaos.\n",
    "* Arreglos."
   ]
  },
  {
   "cell_type": "markdown",
   "metadata": {},
   "source": [
    "### Desventajas de *JSON*.\n",
    "\n",
    "A diferencia de *XML* el formato *JSON* sólo cuenta con una definición muy limitadad de tipos de datos. Debido a esto, no es posible realizar validaciones avanzadas de los datos."
   ]
  },
  {
   "cell_type": "markdown",
   "metadata": {},
   "source": [
    "## Modelos y esquemas (*schemas*)."
   ]
  },
  {
   "cell_type": "markdown",
   "metadata": {},
   "source": [
    "### Estado de un objeto.\n",
    "\n",
    "En la programación orientada a objetos, es posible modelar de forma simple las características de objetos en un momento dado. A esto se le conoce como el estado de un objeto.\n",
    "\n",
    "Cada dato que describe el estado de un objeto es ligado a un nombre o identificador al cual se le conoce como propiedad o atributo.\n",
    "\n",
    "El modelo base de los objetos se conoce como *clase* y a los objetos emanados de dicha clase se les conoce como instancias."
   ]
  },
  {
   "cell_type": "markdown",
   "metadata": {},
   "source": [
    "## Las *dataclasses*.\n",
    "\n",
    "Aún  cuando no se especifique expresamente, todas las clases en *Python 3* son subclases de ```object```, a partir del cual se obtienen los métodos y atributos mínimos de una clase de *Python*.\n",
    "\n",
    "La biblioteca estándar de *Python* contiene el módulo ```datclasses```, el cual permite crear clases que modifican algunos aspectos con respect a las clases creadas a partir de ```object```.\n",
    "\n",
    "https://docs.python.org/3/library/dataclasses.html"
   ]
  },
  {
   "cell_type": "markdown",
   "metadata": {},
   "source": [
    "### La función ```dataclasses.dataclass```.\n",
    "\n",
    "La función ```dataclasses.dataclass``` puede ser usada como un decorador aplicado sobre una clase.\n",
    "\n",
    "Las *dataclasses* permiten usar pistas de tipo (*type hints*) para definir un atributo.\n",
    "\n",
    "Aquellos atributos a los que no se les asigne un valor al ser definidos, deben de ser ingresados como argumentos al momento de instanciar. El resto de los atributos son opcionales.\n",
    "\n",
    "**Nota:** Las pistas de tipo son definidas en el [*PEP 484*](https://www.python.org/dev/peps/pep-0484/).\n",
    "\n",
    "\n",
    "\n",
    "```\n",
    "@dataclass\n",
    "class <Clase>()\n",
    "    <attr 1>: <tipo 1> = <valor 1>\n",
    "    <attr 2>: <tipo 2> = <valor 2>\n",
    "    ...\n",
    "    <attr n>: <tipo 3> = <valor 3>\n",
    "    ...\n",
    "```\n",
    "\n",
    "```\n",
    "<Clase>(<attr 1>=<val 1>, <attr 2>=<val 2>, ... , <attr n>=<val n>)\n",
    "```\n",
    "\n",
    "https://docs.python.org/3/library/dataclasses.html#dataclasses.dataclass"
   ]
  },
  {
   "cell_type": "code",
   "execution_count": null,
   "metadata": {
    "scrolled": true
   },
   "outputs": [],
   "source": [
    "from dataclasses import dataclass"
   ]
  },
  {
   "cell_type": "markdown",
   "metadata": {},
   "source": [
    "**Ejemplo:**"
   ]
  },
  {
   "cell_type": "code",
   "execution_count": null,
   "metadata": {
    "scrolled": true
   },
   "outputs": [],
   "source": [
    "@dataclass\n",
    "class Alumno():\n",
    "    nombre: str\n",
    "    primer_apellido: str\n",
    "    promedio: float\n",
    "    segundo_apellido: str = \"\"\n",
    "    inscrito: bool = True"
   ]
  },
  {
   "cell_type": "code",
   "execution_count": null,
   "metadata": {
    "scrolled": true
   },
   "outputs": [],
   "source": [
    "Alumno(nombre=\"Juan\", \n",
    "       primer_apellido=\"Pérez\", \n",
    "       promedio=8.6)"
   ]
  },
  {
   "cell_type": "code",
   "execution_count": null,
   "metadata": {},
   "outputs": [],
   "source": [
    "Alumno(\"Juan\", \n",
    "       \"Pérez\", \n",
    "       8.6)"
   ]
  },
  {
   "cell_type": "code",
   "execution_count": null,
   "metadata": {},
   "outputs": [],
   "source": [
    "Alumno(nombre=\"Juan\", \n",
    "       primer_apellido=\"Pérez\", \n",
    "       promedio=\"hola\")"
   ]
  },
  {
   "cell_type": "code",
   "execution_count": null,
   "metadata": {
    "scrolled": false
   },
   "outputs": [],
   "source": [
    "Alumno(nombre=\"Juan\", \n",
    "       primer_apellido=\"Pérez\")"
   ]
  },
  {
   "cell_type": "code",
   "execution_count": null,
   "metadata": {},
   "outputs": [],
   "source": [
    "Alumno(nombre=\"Juan\", \n",
    "       primer_apellido=\"Pérez\", \n",
    "       promedio=8.5, \n",
    "       genero = \"M\")"
   ]
  },
  {
   "cell_type": "markdown",
   "metadata": {},
   "source": [
    "### Serialización de objetos.\n",
    "\n",
    "Para poder transmitir el estado de un objeto es necesario extraer su estado y almacenarlo en un formato capaz de ser enviado."
   ]
  },
  {
   "cell_type": "code",
   "execution_count": null,
   "metadata": {},
   "outputs": [],
   "source": [
    "alumno_nuevo = Alumno(nombre=\"Juan\", \n",
    "                      primer_apellido=\"Pérez\", \n",
    "                      promedio=8.6)"
   ]
  },
  {
   "cell_type": "code",
   "execution_count": null,
   "metadata": {},
   "outputs": [],
   "source": [
    "dict_alumno = {'nombre':alumno_nuevo.nombre,\n",
    "              'primer_apellido':alumno_nuevo.primer_apellido,\n",
    "             'segundo_apellido': alumno_nuevo.segundo_apellido,\n",
    "             'inscrito': alumno_nuevo.inscrito,\n",
    "             'promedio':alumno_nuevo.promedio}"
   ]
  },
  {
   "cell_type": "code",
   "execution_count": null,
   "metadata": {},
   "outputs": [],
   "source": [
    "from json import dumps, loads"
   ]
  },
  {
   "cell_type": "code",
   "execution_count": null,
   "metadata": {},
   "outputs": [],
   "source": [
    "alumno_serial = dumps(dictalumno)"
   ]
  },
  {
   "cell_type": "code",
   "execution_count": null,
   "metadata": {},
   "outputs": [],
   "source": [
    "alumno_serial"
   ]
  },
  {
   "cell_type": "code",
   "execution_count": null,
   "metadata": {},
   "outputs": [],
   "source": [
    "alumno_restituido = Alumno(**loads(alumnoserial))"
   ]
  },
  {
   "cell_type": "code",
   "execution_count": null,
   "metadata": {},
   "outputs": [],
   "source": [
    "alumno_restituido"
   ]
  },
  {
   "cell_type": "code",
   "execution_count": null,
   "metadata": {},
   "outputs": [],
   "source": [
    "alumno_nuevo == alumno_restituido"
   ]
  },
  {
   "cell_type": "code",
   "execution_count": null,
   "metadata": {},
   "outputs": [],
   "source": [
    "alumno_nuevo is alumno_restituido"
   ]
  },
  {
   "cell_type": "markdown",
   "metadata": {},
   "source": [
    "### Esquemas.\n",
    "\n",
    "Un esquema permite describir la forma en la que los datos serializados podrán ser validados."
   ]
  },
  {
   "cell_type": "markdown",
   "metadata": {},
   "source": [
    "## La especificación *JSON Schema*."
   ]
  },
  {
   "cell_type": "markdown",
   "metadata": {},
   "source": [
    "En función de la necesidad de crear una especificación que permita extender a *JSON* para representar estructuras de datos más complejas, se ha publicado [*JSON Schema*](https://json-schema.org/).\n",
    "\n",
    "Dicha especificaci;on permite definir no sólo tipos, sino formatos, validadores y documentación a partir de *JSON*."
   ]
  },
  {
   "cell_type": "code",
   "execution_count": null,
   "metadata": {
    "scrolled": true
   },
   "outputs": [],
   "source": [
    "!pip install jsonschema "
   ]
  },
  {
   "cell_type": "code",
   "execution_count": null,
   "metadata": {
    "scrolled": true
   },
   "outputs": [],
   "source": [
    "import jsonschema"
   ]
  },
  {
   "cell_type": "code",
   "execution_count": null,
   "metadata": {
    "scrolled": true
   },
   "outputs": [],
   "source": [
    "esquema_alumno = {\n",
    "    \"$schema\": \"http://json-schema.org/draft-07/schema#\",\n",
    "    \"type\": \"object\",\n",
    "    \"properties\": {\n",
    "        \"nombre\": {\"type\": \"string\",\n",
    "                   \"minLength\":1,\n",
    "                   },\n",
    "        \"primer_apellido\": {\"type\": \"string\", \n",
    "                   \"minLength\":1,},\n",
    "        \"segundo_apellido\": {\"type\": \"string\", \n",
    "                   \"minLength\":1,},\n",
    "        \"carrera\": {\"type\": \"string\"},\n",
    "        \"semestre\": {\"type\": \"number\",\n",
    "                   \"minimum\": 1,\n",
    "                   \"maximum\": 50,},\n",
    "        \"promedio\": {\"type\": \"number\",\n",
    "                   \"minimum\": 0,\n",
    "                   \"maximum\": 10,},\n",
    "        \"al_corriente\": {\"type\": \"boolean\"},\n",
    "    },\n",
    "    \"required\": [\"nombre\",  \"primer_apellido\", \"carrera\", \"semestre\",\n",
    "                 \"promedio\", \"al_corriente\"]\n",
    "}"
   ]
  },
  {
   "cell_type": "code",
   "execution_count": null,
   "metadata": {
    "scrolled": false
   },
   "outputs": [],
   "source": [
    "jsonschema.validate({'al_corriente': False,\n",
    "                     'carrera': 'Arquitectura',\n",
    "                     'nombre': 'Pedro', \n",
    "                     'primer_apellido': 'Solis', \n",
    "                     'promedio': 7.8, \n",
    "                     'semestre': 5,}, \n",
    "                    esquema_alumno)"
   ]
  },
  {
   "cell_type": "code",
   "execution_count": null,
   "metadata": {
    "scrolled": true
   },
   "outputs": [],
   "source": [
    "jsonschema.validate({'al_corriente': False,\n",
    "                     'carrera': 'Arquitectura',\n",
    "                     'nombre': 'Pedro', \n",
    "                     'primer_apellido': 'Solis', \n",
    "                     'promedio': 7.8, \n",
    "                     'semestre': 5,\n",
    "                     'Género': 'F',},\n",
    "                    esquema_alumno)"
   ]
  },
  {
   "cell_type": "code",
   "execution_count": null,
   "metadata": {
    "scrolled": true
   },
   "outputs": [],
   "source": [
    "jsonschema.validate({'Al Corriente': False, \n",
    "          'Carrera': 'Arquitectura', \n",
    "          'Nombre': 'Pedro', \n",
    "          'Primer Apellido': 'Solis', \n",
    "          'Promedio': 7.8, \n",
    "          'Semestre': -7,}, \n",
    "                    esquema_alumno)"
   ]
  },
  {
   "cell_type": "markdown",
   "metadata": {},
   "source": [
    "<p style=\"text-align: center\"><a rel=\"license\" href=\"http://creativecommons.org/licenses/by/4.0/\"><img alt=\"Licencia Creative Commons\" style=\"border-width:0\" src=\"https://i.creativecommons.org/l/by/4.0/80x15.png\" /></a><br />Esta obra está bajo una <a rel=\"license\" href=\"http://creativecommons.org/licenses/by/4.0/\">Licencia Creative Commons Atribución 4.0 Internacional</a>.</p>\n",
    "<p style=\"text-align: center\">&copy; José Luis Chiquete Valdivieso. 2022.</p>"
   ]
  }
 ],
 "metadata": {
  "kernelspec": {
   "display_name": "Python 3 (ipykernel)",
   "language": "python",
   "name": "python3"
  },
  "language_info": {
   "codemirror_mode": {
    "name": "ipython",
    "version": 3
   },
   "file_extension": ".py",
   "mimetype": "text/x-python",
   "name": "python",
   "nbconvert_exporter": "python",
   "pygments_lexer": "ipython3",
   "version": "3.9.2"
  }
 },
 "nbformat": 4,
 "nbformat_minor": 2
}
