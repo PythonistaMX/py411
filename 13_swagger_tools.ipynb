{
 "cells": [
  {
   "cell_type": "markdown",
   "metadata": {},
   "source": [
    "[![img/pythonista.png](img/pythonista.png)](https://www.pythonista.io)"
   ]
  },
  {
   "cell_type": "markdown",
   "metadata": {},
   "source": [
    "# *Swagger* y sus herramientas."
   ]
  },
  {
   "cell_type": "markdown",
   "metadata": {},
   "source": [
    "[*Swagger*](https://swagger.io/) es una narca propiedad de [*SmartBear software*](https://smartbear.com/), la cual ofrece software de código abierto y servicios relacionados a:\n",
    "\n",
    "* Diseño de *API*s.\n",
    "* Desarrollo de *APIs*.\n",
    "* Documentación de *APIs*.\n",
    "* Pruebas de *APIs*.\n",
    "* Virtualización y emulación (*mocking*) de *APIs*.\n",
    "* Gobernanza de *APIs*.\n",
    "* Monitoreo de *APIs*."
   ]
  },
  {
   "cell_type": "markdown",
   "metadata": {},
   "source": [
    "## *Swagger* y la *OpenAPI Specification*."
   ]
  },
  {
   "cell_type": "markdown",
   "metadata": {},
   "source": [
    "La especificación para diseño y documentación de interfaces *RESTful* conocida como la [*OpenAPI Specification*](https://spec.openapis.org/oas/v3.1.0) (*OAS*) o simplemente *OpenAPI* era conocida previamente como la *Swagger Specification*. Es común encontrar bibliografía que se refiere a *Swagger 2.0*.  \n",
    "Sin embargo, la especificación fue tomada por la [*OpenAPI Initiative*](https://www.openapis.org/) y se separó del proyecto *Swagger* a partir de *OpenAPI 2.0*."
   ]
  },
  {
   "cell_type": "markdown",
   "metadata": {},
   "source": [
    "## *SwaggerHub*."
   ]
  },
  {
   "cell_type": "markdown",
   "metadata": {},
   "source": [
    "El [*SwaggerHub*](https://swagger.io/tools/swaggerhub/) es un portal con diversos servicios en línea para la gestión de *APIs* que ofrece múltiples esquemas de suscripción, incluyendo una opción gratuita."
   ]
  },
  {
   "cell_type": "markdown",
   "metadata": {},
   "source": [
    "### *Swagger editor* en línea.\n",
    "\n",
    "https://editor.swagger.io/"
   ]
  },
  {
   "cell_type": "markdown",
   "metadata": {},
   "source": [
    "## Software de código abierto."
   ]
  },
  {
   "cell_type": "markdown",
   "metadata": {},
   "source": [
    "### Swagger Editor.\n",
    "\n",
    "https://swagger.io/tools/swagger-editor/\n",
    "\n",
    "Es posible acceder al software desde:\n",
    "\n",
    "https://github.com/swagger-api/swagger-editor"
   ]
  },
  {
   "cell_type": "markdown",
   "metadata": {},
   "source": [
    "## *Swagger Codegen*.\n",
    "\n",
    "https://swagger.io/tools/swagger-codegen/\n",
    "\n",
    "Es posible acceder al software desde:\n",
    "\n",
    "https://github.com/swagger-api/swagger-codegen"
   ]
  },
  {
   "cell_type": "markdown",
   "metadata": {},
   "source": [
    "## *Swagger UI*.\n",
    "\n",
    "https://swagger.io/tools/swagger-ui/\n",
    "\n",
    "https://github.com/swagger-api/swagger-ui"
   ]
  },
  {
   "cell_type": "markdown",
   "metadata": {},
   "source": [
    "<p style=\"text-align: center\"><a rel=\"license\" href=\"http://creativecommons.org/licenses/by/4.0/\"><img alt=\"Licencia Creative Commons\" style=\"border-width:0\" src=\"https://i.creativecommons.org/l/by/4.0/80x15.png\" /></a><br />Esta obra está bajo una <a rel=\"license\" href=\"http://creativecommons.org/licenses/by/4.0/\">Licencia Creative Commons Atribución 4.0 Internacional</a>.</p>\n",
    "<p style=\"text-align: center\">&copy; José Luis Chiquete Valdivieso. 2022.</p>"
   ]
  }
 ],
 "metadata": {
  "kernelspec": {
   "display_name": "Python 3 (ipykernel)",
   "language": "python",
   "name": "python3"
  },
  "language_info": {
   "codemirror_mode": {
    "name": "ipython",
    "version": 3
   },
   "file_extension": ".py",
   "mimetype": "text/x-python",
   "name": "python",
   "nbconvert_exporter": "python",
   "pygments_lexer": "ipython3",
   "version": "3.9.2"
  }
 },
 "nbformat": 4,
 "nbformat_minor": 2
}
