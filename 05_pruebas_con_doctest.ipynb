{
 "cells": [
  {
   "cell_type": "markdown",
   "metadata": {},
   "source": [
    "<a href=\"https://pythonista.io\"> <img src=\"img/pythonista.png\"></a>"
   ]
  },
  {
   "cell_type": "markdown",
   "metadata": {},
   "source": [
    "# Pruebas con ```doctest```."
   ]
  },
  {
   "cell_type": "markdown",
   "metadata": {},
   "source": [
    "El módulo ```doctest``` es parte de la biblioteca estándar de *Python* y permite utilizar los *docstrings* como un *script* de pruebas.\n",
    "\n",
    "https://docs.python.org/3/library/doctest.html"
   ]
  },
  {
   "cell_type": "markdown",
   "metadata": {},
   "source": [
    "## Inclusión de pruebas dentro de *docstrings*."
   ]
  },
  {
   "cell_type": "markdown",
   "metadata": {},
   "source": [
    "```\n",
    "\"\"\"\n",
    "...\n",
    "    >>> <expresión>\n",
    "    <resultado>\n",
    "\"\"\"\n",
    "...\n",
    "```"
   ]
  },
  {
   "cell_type": "markdown",
   "metadata": {},
   "source": [
    "## Uso de ```doctest``` desde la línea de comando."
   ]
  },
  {
   "cell_type": "markdown",
   "metadata": {},
   "source": [
    "```\n",
    "python -m doctest <script> \n",
    "```\n",
    "\n",
    "Donde:\n",
    "\n",
    "* ```script``` es un archivo que contiene un script de *Python*."
   ]
  },
  {
   "cell_type": "markdown",
   "metadata": {},
   "source": [
    "**Ejemplo:**"
   ]
  },
  {
   "cell_type": "markdown",
   "metadata": {},
   "source": [
    "El script ```src/05/pruebas_doctest.py``` contiene el siguiente código:\n",
    "\n",
    "``` python\n",
    "#! /usr/bin/env python3\n",
    "'''Script de pruebas de doctest'''\n",
    "\n",
    "def suma(a, b):\n",
    "    '''\n",
    "    >>> suma(2, 3)\n",
    "    5\n",
    "    >>> suma('Hola', None)\n",
    "    Traceback (most recent call last):\n",
    "        ...\n",
    "    TypeError: can only concatenate str (not \"NoneType\") to str\n",
    "    \n",
    "    '''\n",
    "    return a + b\n",
    "```"
   ]
  },
  {
   "cell_type": "markdown",
   "metadata": {},
   "source": [
    "* La siguiente celda ejecutará el módulo ```doctest``` tomando el contenido de ```src/05/pruebas_doctest.py``` como argumento."
   ]
  },
  {
   "cell_type": "code",
   "execution_count": null,
   "metadata": {
    "scrolled": true
   },
   "outputs": [],
   "source": [
    "!python -m doctest src/05/pruebas_doctest.py -v"
   ]
  },
  {
   "cell_type": "markdown",
   "metadata": {},
   "source": [
    "### La función ```doctest.testmod()```.\n",
    "\n",
    "La función ```doctest.testmod()``` permite aplicar las pruebas a un módulo que se ingresa como argumento.\n",
    "\n",
    "\n",
    "```\n",
    "doctest.testmod(<módulo>)\n",
    "```"
   ]
  },
  {
   "cell_type": "markdown",
   "metadata": {},
   "source": [
    "**Ejemplo:**"
   ]
  },
  {
   "cell_type": "markdown",
   "metadata": {},
   "source": [
    "El script ```src/05/script_pruebas_doctest.py``` contiene el siguiente código:\n",
    "\n",
    "``` python\n",
    "#! /usr/bin/env python3\n",
    "'''Script de pruebas de doctest'''\n",
    "\n",
    "import pruebas_doctest, doctest\n",
    "if __name__ == \"__main__\":\n",
    "    doctest.testmod(pruebas_doctest)\n",
    "```"
   ]
  },
  {
   "cell_type": "markdown",
   "metadata": {},
   "source": [
    "* La siguiente celda ejecutará el script ```src/05/script_pruebas_doctest.py```"
   ]
  },
  {
   "cell_type": "code",
   "execution_count": null,
   "metadata": {},
   "outputs": [],
   "source": [
    "%run src/05/script_pruebas_doctest.py -v"
   ]
  },
  {
   "cell_type": "markdown",
   "metadata": {},
   "source": [
    "### La función ```doctest.testfile()```.\n",
    "\n",
    "La función ```doctest.testfile()``` permite leer cualquier archivo de texto como si se tratara de un *docstring*.\n",
    "\n",
    "```\n",
    "doctest.testfile(<ruta>)\n",
    "``` \n",
    "Donde:\n",
    "\n",
    "* ```<ruta>``` es la ruta a un archivo de texto. \n"
   ]
  },
  {
   "cell_type": "markdown",
   "metadata": {},
   "source": [
    "**Ejemplo:**"
   ]
  },
  {
   "cell_type": "markdown",
   "metadata": {},
   "source": [
    "* El archivo ```src/05/prueba.md``` contiene lo siguiente:\n",
    "\n",
    "```\n",
    "# Documento de prueba.\n",
    "\n",
    "Este es un documento que permite utilizr un texto como una herramienta de pruena del módulo ```doctest```.\n",
    "\n",
    "    >>> from pruebas_doctest import suma\n",
    "    \n",
    "    >>> suma(2, 3)\n",
    "    5\n",
    "    \n",
    "Sólo los componentes que contienen código son probados.\n",
    "```"
   ]
  },
  {
   "cell_type": "markdown",
   "metadata": {},
   "source": [
    "* El script ```src/05/script_prueba_texto.py``` contiene el siguiente código:\n",
    "\n",
    "```\n",
    "#! /usr/bin/env python3\n",
    "import doctest\n",
    "doctest.testfile(\"prueba.md\")\n",
    "```"
   ]
  },
  {
   "cell_type": "code",
   "execution_count": null,
   "metadata": {},
   "outputs": [],
   "source": [
    "%run src/05/script_prueba_texto.py -v"
   ]
  },
  {
   "cell_type": "markdown",
   "metadata": {},
   "source": [
    "<p style=\"text-align: center\"><a rel=\"license\" href=\"http://creativecommons.org/licenses/by/4.0/\"><img alt=\"Licencia Creative Commons\" style=\"border-width:0\" src=\"https://i.creativecommons.org/l/by/4.0/80x15.png\" /></a><br />Esta obra está bajo una <a rel=\"license\" href=\"http://creativecommons.org/licenses/by/4.0/\">Licencia Creative Commons Atribución 4.0 Internacional</a>.</p>\n",
    "<p style=\"text-align: center\">&copy; José Luis Chiquete Valdivieso. 2022.</p>"
   ]
  }
 ],
 "metadata": {
  "kernelspec": {
   "display_name": "Python 3 (ipykernel)",
   "language": "python",
   "name": "python3"
  },
  "language_info": {
   "codemirror_mode": {
    "name": "ipython",
    "version": 3
   },
   "file_extension": ".py",
   "mimetype": "text/x-python",
   "name": "python",
   "nbconvert_exporter": "python",
   "pygments_lexer": "ipython3",
   "version": "3.9.2"
  }
 },
 "nbformat": 4,
 "nbformat_minor": 2
}
