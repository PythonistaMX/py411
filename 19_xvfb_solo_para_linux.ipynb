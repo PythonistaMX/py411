{
 "cells": [
  {
   "cell_type": "markdown",
   "metadata": {},
   "source": [
    "<a href=\"https://pythonista.io\"> <img src=\"img/pythonista.png\"></a>"
   ]
  },
  {
   "cell_type": "markdown",
   "metadata": {},
   "source": [
    "# Entorno de *Selenium WebDriver*  para *Linux*."
   ]
  },
  {
   "cell_type": "markdown",
   "metadata": {},
   "source": [
    "[*Selenium WebDriver*](https://www.selenium.dev/) es una herramienta que permite emular las operaciones realizadas mediante un navegado, de tal forma que es posible automatizar pruebas sobre una interfaz web.\n",
    "\n",
    "Aún cuando *Selenium WebDriver*\n",
    "\n",
    "https://www.selenium.dev/selenium/docs/api/py/"
   ]
  },
  {
   "cell_type": "markdown",
   "metadata": {},
   "source": [
    "## Preliminares."
   ]
  },
  {
   "cell_type": "markdown",
   "metadata": {},
   "source": [
    "### Intalación de un Servidor X virtual."
   ]
  },
  {
   "cell_type": "code",
   "execution_count": 1,
   "metadata": {},
   "outputs": [
    {
     "name": "stdout",
     "output_type": "stream",
     "text": [
      "Hit:1 http://deb.debian.org/debian bullseye InRelease\n",
      "Get:2 http://security.debian.org/debian-security bullseye-security InRelease [44.1 kB]\n",
      "Get:3 http://deb.debian.org/debian bullseye-updates InRelease [39.4 kB]\n",
      "Fetched 83.5 kB in 3s (31.6 kB/s)   \u001b[0m                         \u001b[0m\u001b[33m\u001b[33m\u001b[33m\u001b[33m\u001b[33m\u001b[33m\u001b[33m\n",
      "Reading package lists... Done\n",
      "Building dependency tree... Done\n",
      "Reading state information... Done\n",
      "All packages are up to date.\n",
      "Reading package lists... Done\n",
      "Building dependency tree... Done\n",
      "Reading state information... Done\n",
      "Calculating upgrade... Done\n",
      "0 upgraded, 0 newly installed, 0 to remove and 0 not upgraded.\n",
      "Reading package lists... Done\n",
      "Building dependency tree... Done\n",
      "Reading state information... Done\n",
      "firefox-esr is already the newest version (91.5.0esr-1~deb11u1).\n",
      "xvfb is already the newest version (2:1.20.11-1+deb11u1).\n",
      "0 upgraded, 0 newly installed, 0 to remove and 0 not upgraded.\n"
     ]
    }
   ],
   "source": [
    "!sudo apt update\n",
    "!sudo apt upgrade -y\n",
    "!sudo apt install xvfb firefox-esr -y"
   ]
  },
  {
   "cell_type": "markdown",
   "metadata": {},
   "source": [
    "### Creación del archivo de definición de servicio.\n",
    "\n",
    "Una vez instalado *xvfb*, es necesario habilitarlo como un servicio añadiendo el archivo [```src/19/xvfb.service```](src/19/xvfb.service) en ```/etc/systemd/system/```.\n",
    "\n",
    "Dicho archivo contiene el siguiente código:\n",
    "\n",
    "``` bash\n",
    "[Unit]\n",
    "Description=Virtual Frame Buffer X Server\n",
    "After=network.target\n",
    "\n",
    "[Service]\n",
    "ExecStart=/usr/bin/Xvfb :42 -screen 0 1920x1080x24 -ac +extension GLX +render -noreset\n",
    "\n",
    "[Install]\n",
    "WantedBy=multi-user.target\n",
    "```"
   ]
  },
  {
   "cell_type": "markdown",
   "metadata": {},
   "source": [
    "* La siguiente celda copiará el archivo ```src/19/xvfb.service``` en ```/etc/systemd/system/```.\n",
    "\n",
    "**Nota:** Es necesario tener permisos de administrador para ejecutar la siguiente operación."
   ]
  },
  {
   "cell_type": "code",
   "execution_count": 2,
   "metadata": {},
   "outputs": [],
   "source": [
    "!sudo cp src/19/xvfb.service /etc/systemd/system/"
   ]
  },
  {
   "cell_type": "code",
   "execution_count": 3,
   "metadata": {},
   "outputs": [
    {
     "name": "stdout",
     "output_type": "stream",
     "text": [
      "[Unit]\r\n",
      "Description=Virtual Frame Buffer X Server\r\n",
      "After=network.target\r\n",
      "\r\n",
      "[Service]\r\n",
      "ExecStart=/usr/bin/Xvfb :42 -screen 0 1920x1080x24 -ac +extension GLX +render -noreset\r\n",
      "\r\n",
      "[Install]\r\n",
      "WantedBy=multi-user.target"
     ]
    }
   ],
   "source": [
    "%cat /etc/systemd/system/xvfb.service"
   ]
  },
  {
   "cell_type": "markdown",
   "metadata": {},
   "source": [
    "#### Habilitación y puesta en marcha del servicio.\n",
    "\n",
    "Las siguientes celdas habilitarán e iniciarán el servicio ```xvfb``` mediante el comando ```systemctl```."
   ]
  },
  {
   "cell_type": "code",
   "execution_count": 4,
   "metadata": {},
   "outputs": [],
   "source": [
    "!sudo systemctl enable xvfb"
   ]
  },
  {
   "cell_type": "code",
   "execution_count": 5,
   "metadata": {},
   "outputs": [],
   "source": [
    "!sudo systemctl start xvfb"
   ]
  },
  {
   "cell_type": "markdown",
   "metadata": {},
   "source": [
    "* Para comprobar que el servidor está corriendo ejecute lo siguiente:"
   ]
  },
  {
   "cell_type": "code",
   "execution_count": 6,
   "metadata": {
    "scrolled": true
   },
   "outputs": [
    {
     "name": "stdout",
     "output_type": "stream",
     "text": [
      "\u001b[0;1;32m●\u001b[0m xvfb.service - Virtual Frame Buffer X Server\n",
      "     Loaded: loaded (\u001b]8;;file://pythonista/etc/systemd/system/xvfb.service\u0007/etc/systemd/system/xvfb.service\u001b]8;;\u0007; enabled; vendor preset: enabled)\n",
      "     Active: \u001b[0;1;32mactive (running)\u001b[0m since Fri 2022-01-21 19:16:29 CST; 1h 56min ago\n",
      "   Main PID: 499 (Xvfb)\n",
      "      Tasks: 21 (limit: 36112)\n",
      "     Memory: 66.8M\n",
      "        CPU: 141ms\n",
      "     CGroup: /system.slice/xvfb.service\n",
      "             └─499 /usr/bin/Xvfb :42 -screen 0 1920x1080x24 -ac +extension GLX …\n",
      "\n",
      "Jan 21 19:16:29 pythonista systemd[1]: Started Virtual Frame Buffer X Server.\n"
     ]
    }
   ],
   "source": [
    "!sudo systemctl status xvfb --no-pager"
   ]
  },
  {
   "cell_type": "markdown",
   "metadata": {},
   "source": [
    "**Nota:** Este procedimiento sólo se requiere hace una vez. Una vez instalado, configurado y habilitado, el servicio iniciará junto con el servidor."
   ]
  },
  {
   "cell_type": "markdown",
   "metadata": {},
   "source": [
    "<p style=\"text-align: center\"><a rel=\"license\" href=\"http://creativecommons.org/licenses/by/4.0/\"><img alt=\"Licencia Creative Commons\" style=\"border-width:0\" src=\"https://i.creativecommons.org/l/by/4.0/80x15.png\" /></a><br />Esta obra está bajo una <a rel=\"license\" href=\"http://creativecommons.org/licenses/by/4.0/\">Licencia Creative Commons Atribución 4.0 Internacional</a>.</p>\n",
    "<p style=\"text-align: center\">&copy; José Luis Chiquete Valdivieso. 2022.</p>"
   ]
  }
 ],
 "metadata": {
  "kernelspec": {
   "display_name": "Python 3 (ipykernel)",
   "language": "python",
   "name": "python3"
  },
  "language_info": {
   "codemirror_mode": {
    "name": "ipython",
    "version": 3
   },
   "file_extension": ".py",
   "mimetype": "text/x-python",
   "name": "python",
   "nbconvert_exporter": "python",
   "pygments_lexer": "ipython3",
   "version": "3.9.2"
  }
 },
 "nbformat": 4,
 "nbformat_minor": 2
}
