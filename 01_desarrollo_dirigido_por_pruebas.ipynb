{
 "cells": [
  {
   "cell_type": "markdown",
   "metadata": {},
   "source": [
    "<a href=\"https://www.pythonista.io\"> <img src=\"img/pythonista.png\"></a>"
   ]
  },
  {
   "cell_type": "markdown",
   "metadata": {},
   "source": [
    "# Desarrollo Dirigido por Pruebas (TDD).\n",
    "\n",
    "Es una práctica cuyo objetivo es lograr un código limpio, seguro y que funcione. \n",
    "\n",
    "La idea es que los requerimientos sean traducidos en pruebas, de este modo, cuando las pruebas pasen se garantizará que el software cumple con los requisitos que se han establecido. "
   ]
  },
  {
   "cell_type": "markdown",
   "metadata": {},
   "source": [
    "## Conceptos relacionados."
   ]
  },
  {
   "cell_type": "markdown",
   "metadata": {},
   "source": [
    "### Deuda técnica.\n",
    "\n",
    "Es el costo que implica retrabajar un artefacto por causas de su pobre desarrollo en etapas tempranas del ciclo de vida."
   ]
  },
  {
   "cell_type": "markdown",
   "metadata": {},
   "source": [
    "### Escribir las pruebas primero (Test First Development).\n",
    "\n",
    "Consiste en crear pruebas para cada funcionalidad que debe cumplir el producto de software."
   ]
  },
  {
   "cell_type": "markdown",
   "metadata": {},
   "source": [
    "### Refactorización.\n",
    "\n",
    "Es la acción de reescribir el código de un componente de software sin afectar su comportamiento."
   ]
  },
  {
   "cell_type": "markdown",
   "metadata": {},
   "source": [
    "<img src=\"img/01/TDD_Lifecycle.png\" width=\"800\">\n",
    "\n",
    "Fuente: https://upload.wikimedia.org/wikipedia/commons/0/0b/TDD_Global_Lifecycle.png"
   ]
  },
  {
   "cell_type": "markdown",
   "metadata": {},
   "source": [
    "### Aseguramiento de la calidad (QA)\n",
    "\n",
    "El concepto de QA implica una serie de métodos y actividades cuyo objetivo es garantizar que el software cumple con las especificaciones requeridas. Las actividades de QA también requieren de la realización de pruebas y análisis del código y los binarios durante el ciclo de vida de desarrollo de software."
   ]
  },
  {
   "cell_type": "markdown",
   "metadata": {},
   "source": [
    "## Tipos de pruebas."
   ]
  },
  {
   "cell_type": "markdown",
   "metadata": {},
   "source": [
    "### Pruebas funcionales.\n",
    "\n",
    "Fuente: https://hackr.io/blog/types-of-software-testing\n",
    "\n",
    "* **Pruebas unitarias.** Evalúan el correcto funcionamiento de cada componente de código.\n",
    "    * **mock** es un objeto que simula las características de un objeto real y que es utiizado para realizar las pruebas unitarias. \n",
    "    * **stub** es un objeto que permite simular una entidad con la que se relacionará un objeto durante la prueba.\n",
    "    * **code coverage** es el procentaje de código que se ejecuta durante las pruebas unitarias.\n",
    "* **Pruebas de integración.** Evalúan el funcionamiento del sistema a partir de la inclusión de nuevos componentes.\n",
    "* **Pruebas de extremo a extremo**. Evalúa que cada componente de software de un proceso funciones correctamente de principio a fin.\n",
    "* **Pruebas de humo**. Son pruebas no exhaustivas que se le hacen a un producto de software previo a su liberación a producción para validar que las funcionalidades primordiales funcionan correctamente.\n",
    "* **Pruebas de sanidad**. Son pruebas superficiales de los puntos más relevantes de un producto de software.\n",
    "* **Pruebas de regresión**. Son pruebas exhaustivas que se hacen para validar que el sistema funciona correctamente después de cierto tiempo de estar en producción. \n",
    "* **Pruebas de aceptación**. Son pruebas que validan al funcionalidad del producto ante el cliente.\n",
    "* **Pruebas de caja blanca**. Son pruebas que inciden en la lógica interna de los componentes. \n",
    "* **Pruebas de caja negra**. Son pruebas que inciden en el comportamiento de los componentes. \n",
    "* **Pruebas de interfaz**. Son pruebas sobre los puntos de acceso de los componentes de un sistema."
   ]
  },
  {
   "cell_type": "markdown",
   "metadata": {},
   "source": [
    "### Pruebas no funcionales.\n",
    "\n",
    "* **Pruebas de rendimiento**. Evalúan el uso de recursos de un sistema.\n",
    "* **Pruebas de seguridad**. Evalúan las posibles vulnerabildiades de un sistema.\n",
    "* **Pruebas de carga**. Evalúan la capacidad de un sistema ante cierto tipo de cargas de uso.\n",
    "* **Pruebas de fallo**. Evalúan la resiliencia de un sistema.\n",
    "* **Pruebas de compatibilidad**. Evalúan si un sistema puede interactuar con otros.\n",
    "* **Pruebas de usabilidad**. Evalúan la experiencia general del uso de un sistema.\n",
    "* **Pruebas de escalabilidad**. Evalúan la capacidad de crecer en cuestión de recursos de un sistema.\n",
    "* **Pruebas de volumen**. Evalúan la capacidad de un sistema de gestionar grandes cantidades de datos.\n",
    "* **Pruebas de estrés**. Evalúan el comportamiento de un sistema cuando se encuentra al límite de sus capacidades.\n",
    "* **Pruebas de mantenibilidad**. Evalúan la facilidad de mantenimiento de un sistema. \n",
    "* **Pruebas de cumplimiento (compliance)**. Evalúan si un sistema cumple con la normatividad aplicable.\n",
    "* **Pruebas de eficiencia**. Evalúan si el sistema cumple con los objetivos funcionales, en tiempo razonable.\n",
    "* **Pruebas de confiabilidad** Evalúan la disponibilidad y madurez de los procesos dentro del sistema.\n",
    "* **Pruebas de resistencia.** Evalúa la operación del sistema con carga en tiempos largos. \n",
    "* **Pruebas de recuperación ante desastres**. Evalúa la capacidad de un sistema para restablecer sus funcionalidades en caso de una emergencia crítica, así comod e mitgar riesgos.\n",
    "* **Pruebas de localización**. Evalúa la capacidad de un sistema de poder ofercer servicios homogeneos a usuarios de diversas zonas geográficas.\n",
    "* **Pruebas de internacionalización**. Evalúa la capacidad de un sistema de poder ofercer servicios homogeneos a usuarios de diversas zonas geográficas a novel internacional.\n"
   ]
  },
  {
   "cell_type": "code",
   "execution_count": 1,
   "metadata": {},
   "outputs": [],
   "source": [
    "let x = 1;"
   ]
  },
  {
   "cell_type": "code",
   "execution_count": 2,
   "metadata": {},
   "outputs": [
    {
     "name": "stdout",
     "output_type": "stream",
     "text": [
      "1\n"
     ]
    }
   ],
   "source": [
    "console.log(x);"
   ]
  },
  {
   "cell_type": "code",
   "execution_count": 3,
   "metadata": {},
   "outputs": [
    {
     "name": "stdout",
     "output_type": "stream",
     "text": [
      "total 124 drwxr-xr-x 6 oi oi 4096 Dec 4 14:42 . drwxr-xr-x 7 oi oi 4096 Dec 2 15:34 .. -rw-r--r-- 1 oi oi 7190 Dec 2 16:27 01_desarrollo_dirigido_por_pruebas.ipynb -rw-r--r-- 1 oi oi 10682 Dec 4 14:42 02_linters_en_python.ipynb -rw-r--r-- 1 oi oi 3093 Dec 4 14:42 03_depuracion_de_codigo_en_python.ipynb -rw-r--r-- 1 oi oi 3156 Dec 4 14:42 04_estructura_de_un_proyecto.ipynb -rw-r--r-- 1 oi oi 1278 Dec 4 14:42 05_pruebas_con_unittest.ipynb -rw-r--r-- 1 oi oi 1274 Dec 4 14:42 06_pruebas_con_nose.ipynb -rw-r--r-- 1 oi oi 1276 Dec 4 14:42 07_pruebas_con_pytest.ipynb -rw-r--r-- 1 oi oi 1277 Dec 4 14:42 08_pruebas_con_doctest.ipynb -rw-r--r-- 1 oi oi 1272 Dec 4 14:42 09_cobertura_de_codigo.ipynb -rw-r--r-- 1 oi oi 1291 Dec 4 14:42 10_ciclo_de_vida_de_desarrollo.ipynb -rw-r--r-- 1 oi oi 1270 Dec 4 14:42 11_pruebas_con_django.ipynb -rw-r--r-- 1 oi oi 1302 Dec 4 14:42 12_pruebas_de_api_web.ipynb -rw-r--r-- 1 oi oi 1302 Dec 4 14:42 13_pruebas_de_interfaz_de_aplicaciones_web.ipynb -rw-r--r-- 1 oi oi 6111 Dec 4 14:42 14_automatizacion_de_entornos_con_tox.ipynb -rw-r--r-- 1 oi oi 1277 Dec 4 14:42 15_automatización_de_pruebas.ipynb -rw-r--r-- 1 oi oi 1289 Dec 4 14:42 16_desarrollo_dirgido_por_comportamiento.ipynb -rw-r--r-- 1 oi oi 1275 Dec 4 14:42 17_introduccion_a_ci_cd_con_jenkins.ipynb drwxr-xr-x 8 oi oi 4096 Dec 4 14:42 .git -rw-r--r-- 1 oi oi 1799 Dec 2 15:34 .gitignore drwxr-xr-x 3 oi oi 4096 Dec 2 15:34 img drwxr-xr-x 2 oi oi 4096 Dec 2 15:38 .ipynb_checkpoints -rw-r--r-- 1 oi oi 1069 Dec 2 15:34 LICENSE -rw-r--r-- 1 oi oi 45 Dec 2 15:34 README.md drwxr-xr-x 4 oi oi 4096 Dec 4 14:42 src -rw-r--r-- 1 oi oi 1185 Dec 2 15:34 XX_plantilla_base.ipynb\n"
     ]
    }
   ],
   "source": [
    "echo $(ls -al)"
   ]
  },
  {
   "cell_type": "markdown",
   "metadata": {},
   "source": [
    "<p style=\"text-align: center\"><a rel=\"license\" href=\"http://creativecommons.org/licenses/by/4.0/\"><img alt=\"Licencia Creative Commons\" style=\"border-width:0\" src=\"https://i.creativecommons.org/l/by/4.0/80x15.png\" /></a><br />Esta obra está bajo una <a rel=\"license\" href=\"http://creativecommons.org/licenses/by/4.0/\">Licencia Creative Commons Atribución 4.0 Internacional</a>.</p>\n",
    "<p style=\"text-align: center\">&copy; José Luis Chiquete Valdivieso. 2020.</p>"
   ]
  }
 ],
 "metadata": {
  "kernelspec": {
   "display_name": "Bash",
   "language": "bash",
   "name": "bash"
  },
  "language_info": {
   "codemirror_mode": "shell",
   "file_extension": ".sh",
   "mimetype": "text/x-sh",
   "name": "bash"
  }
 },
 "nbformat": 4,
 "nbformat_minor": 2
}
