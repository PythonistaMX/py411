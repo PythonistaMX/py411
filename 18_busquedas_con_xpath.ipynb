{
 "cells": [
  {
   "cell_type": "markdown",
   "metadata": {},
   "source": [
    "[![img/pythonista.png](img/pythonista.png)](https://www.pythonista.io)"
   ]
  },
  {
   "cell_type": "markdown",
   "metadata": {},
   "source": [
    "Es posible identificar elementos dentro de un documento HTMl utilizando comandos de XPath en Javascript."
   ]
  },
  {
   "cell_type": "markdown",
   "metadata": {},
   "source": [
    "## La especificación XPath.\n",
    "\n",
    "[XPath](https://www.w3.org/TR/xpath/all/) es una especificación de la W3C aplicable a documentos XML, capaz de identificar elementos dentro de dichos documentos mediante un lenguaje capaz de desplazarse en una estructura por medio de rutas que tienen como origen un \"nodo raíz\" a partir del cual se bifurcan otros nodos de forma similar a las ramas de un árbol a partir de su tronco.\n",
    "\n",
    "Hasta antes de HTML5, la especificación de HTML era definida como un derivado de XML y aún cuando HTML5 ya no se se apega por completo a la especificación de XML, conserva muchas características y funcionalidades."
   ]
  },
  {
   "cell_type": "markdown",
   "metadata": {},
   "source": [
    "## Componentes de una estructura según XPath.\n",
    "\n",
    "La especificación de XPath es capaz de identificar los siguientes nodos en un documento XML:\n",
    "\n",
    "* Elementos.\n",
    "* Atributos.\n",
    "* Textos.\n",
    "* Comentarios.\n",
    "* Nodos de documento.\n",
    "* Espacios de nombres (namespaces).\n",
    "* Instrucciones de proceso. \n",
    "\n",
    "En el caso de HTML se utilizan primordialmente:\n",
    "\n",
    "* Elementos.\n",
    "* Atributos.\n",
    "* Textos.\n",
    "* Comentarios.\n",
    "* Nodos de documento."
   ]
  },
  {
   "cell_type": "markdown",
   "metadata": {},
   "source": [
    "https://www.w3schools.com/xml/xpath_syntax.asp"
   ]
  },
  {
   "cell_type": "markdown",
   "metadata": {},
   "source": [
    "## Expresiones de ruta de XPath.\n",
    "\n",
    "Las rutas de búsqueda con XPAth peuden ser creadas a partir de la siguientes expresiones.\n",
    "\n",
    "* ```<nombre>```: realiza una búsqueda de los nodos con el nombre especificado a partir de la posición.\n",
    "* ```\\``` busca en la raíz. \n",
    "* ```\\\\``` busca en todos los nodos desde la raíz."
   ]
  },
  {
   "cell_type": "markdown",
   "metadata": {},
   "source": [
    "<p style=\"text-align: center\"><a rel=\"license\" href=\"http://creativecommons.org/licenses/by/4.0/\"><img alt=\"Licencia Creative Commons\" style=\"border-width:0\" src=\"https://i.creativecommons.org/l/by/4.0/80x15.png\" /></a><br />Esta obra está bajo una <a rel=\"license\" href=\"http://creativecommons.org/licenses/by/4.0/\">Licencia Creative Commons Atribución 4.0 Internacional</a>.</p>\n",
    "<p style=\"text-align: center\">&copy; José Luis Chiquete Valdivieso. 2022.</p>"
   ]
  }
 ],
 "metadata": {
  "kernelspec": {
   "display_name": "Python 3 (ipykernel)",
   "language": "python",
   "name": "python3"
  },
  "language_info": {
   "codemirror_mode": {
    "name": "ipython",
    "version": 3
   },
   "file_extension": ".py",
   "mimetype": "text/x-python",
   "name": "python",
   "nbconvert_exporter": "python",
   "pygments_lexer": "ipython3",
   "version": "3.9.2"
  }
 },
 "nbformat": 4,
 "nbformat_minor": 2
}
