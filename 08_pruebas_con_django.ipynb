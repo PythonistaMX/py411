{
 "cells": [
  {
   "cell_type": "markdown",
   "metadata": {},
   "source": [
    "<a href=\"https://pythonista.io\"> <img src=\"img/pythonista.png\"></a>"
   ]
  },
  {
   "cell_type": "markdown",
   "metadata": {},
   "source": [
    "# Pruebas_con_Django."
   ]
  },
  {
   "cell_type": "markdown",
   "metadata": {},
   "source": [
    "## Preliminares."
   ]
  },
  {
   "cell_type": "code",
   "execution_count": null,
   "metadata": {
    "scrolled": true
   },
   "outputs": [],
   "source": [
    "!pip install django requests"
   ]
  },
  {
   "cell_type": "code",
   "execution_count": null,
   "metadata": {},
   "outputs": [],
   "source": [
    "!unzip -d src src/tutorial.zip"
   ]
  },
  {
   "cell_type": "code",
   "execution_count": null,
   "metadata": {},
   "outputs": [],
   "source": [
    "%cd src/tutorial/"
   ]
  },
  {
   "cell_type": "code",
   "execution_count": null,
   "metadata": {
    "scrolled": true
   },
   "outputs": [],
   "source": [
    "!python manage.py migrate"
   ]
  },
  {
   "cell_type": "markdown",
   "metadata": {},
   "source": [
    "``` bash\n",
    "python manage.py createsuperuser\n",
    "```"
   ]
  },
  {
   "cell_type": "code",
   "execution_count": null,
   "metadata": {},
   "outputs": [],
   "source": [
    "python manage.py runserver 0.0.0.0"
   ]
  },
  {
   "cell_type": "markdown",
   "metadata": {},
   "source": [
    "https://docs.djangoproject.com/en/3.1/topics/testing/"
   ]
  },
  {
   "cell_type": "code",
   "execution_count": null,
   "metadata": {},
   "outputs": [],
   "source": []
  },
  {
   "cell_type": "markdown",
   "metadata": {},
   "source": [
    "```\n",
    "from django.test import TestCase\n",
    "```"
   ]
  },
  {
   "cell_type": "code",
   "execution_count": null,
   "metadata": {},
   "outputs": [],
   "source": []
  },
  {
   "cell_type": "markdown",
   "metadata": {},
   "source": [
    "``` python\n",
    "from django.test import TestCase\n",
    "from .models import Alumno\n",
    "from . import endpoint_views\n",
    "from django.http import HttpRequest, HttpResponseNotFound\n",
    "import requests\n",
    "import json\n",
    "\n",
    "# Create your tests here.\n",
    "'''\n",
    "Inicio de pruebas unitarias.\n",
    "'''\n",
    "class testAlumno(TestCase):\n",
    "    def setUp(self):\n",
    "        Alumno.objects.create(numero_de_cuenta=1221, nombre=\"Juan\",\n",
    "            primer_apellido=\"Pérez\", semestre=\"3\", \n",
    "            carrera=\"Medicina\", al_corriente=True, promedio=7.5)\n",
    "\n",
    "\n",
    "    def testCuentaAlumnos(self):\n",
    "        self.assertGreater(len(Alumno.objects.all()), 0)\n",
    "\n",
    "    def testAlumnoGuardadoCorrectamente(self):\n",
    "        self.assertGreater(len(Alumno.objects.filter(primer_apellido = \"Pérez\")), 0)\n",
    "\n",
    "class testApiVista(TestCase):\n",
    "    def setUp(self):\n",
    "        print('iniciando...')\n",
    "        Alumno.objects.create(numero_de_cuenta=1221, nombre=\"Juan\",\n",
    "            primer_apellido=\"Pérez\", semestre=\"3\", \n",
    "            carrera=\"Medicina\", al_corriente=True, promedio=7.5)\n",
    "    \n",
    "    \n",
    "    def testClaveInexistente(self):\n",
    "        peticion = HttpRequest()\n",
    "        peticion.method = \"GET\"\n",
    "        respuesta = endpoint_views.clave(peticion, '2000')\n",
    "        self.assertIsInstance(respuesta, HttpResponseNotFound)\n",
    "\n",
    "    def testClaveExistente(self):\n",
    "            peticion = HttpRequest()\n",
    "            peticion.method = \"GET\"\n",
    "            respuesta = endpoint_views.clave(peticion, 1221)\n",
    "            self.assertEqual(respuesta.status_code, 200)\n",
    "\n",
    "\n",
    "'''\n",
    "Inicio de pruebas funcionales.\n",
    "'''            \n",
    "class testFuncionalidadClave(TestCase):\n",
    "\n",
    "    def testEndPointConGet(self):\n",
    "         with requests.get(\"http://localhost:8000/api/1221\") as respuesta:\n",
    "             self.assertEqual(respuesta.status_code, 200)\n",
    "             datos = json.loads(str(respuesta.content, encoding='utf-8'))\n",
    "             self.assertIn(datos[\"carrera\"], endpoint_views.carreras)\n",
    "```"
   ]
  },
  {
   "cell_type": "code",
   "execution_count": null,
   "metadata": {},
   "outputs": [],
   "source": []
  },
  {
   "cell_type": "code",
   "execution_count": null,
   "metadata": {},
   "outputs": [],
   "source": []
  },
  {
   "cell_type": "markdown",
   "metadata": {},
   "source": [
    "<p style=\"text-align: center\"><a rel=\"license\" href=\"http://creativecommons.org/licenses/by/4.0/\"><img alt=\"Licencia Creative Commons\" style=\"border-width:0\" src=\"https://i.creativecommons.org/l/by/4.0/80x15.png\" /></a><br />Esta obra está bajo una <a rel=\"license\" href=\"http://creativecommons.org/licenses/by/4.0/\">Licencia Creative Commons Atribución 4.0 Internacional</a>.</p>\n",
    "<p style=\"text-align: center\">&copy; José Luis Chiquete Valdivieso. 2020.</p>"
   ]
  }
 ],
 "metadata": {
  "kernelspec": {
   "display_name": "Python 3",
   "language": "python",
   "name": "python3"
  },
  "language_info": {
   "codemirror_mode": {
    "name": "ipython",
    "version": 3
   },
   "file_extension": ".py",
   "mimetype": "text/x-python",
   "name": "python",
   "nbconvert_exporter": "python",
   "pygments_lexer": "ipython3",
   "version": "3.7.3"
  }
 },
 "nbformat": 4,
 "nbformat_minor": 2
}
