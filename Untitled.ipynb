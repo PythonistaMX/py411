{
 "cells": [
  {
   "cell_type": "code",
   "execution_count": null,
   "id": "9bc49c63",
   "metadata": {},
   "outputs": [],
   "source": [
    "class ClaseDemo():\n",
    "    def __init__(self, x, y, z):\n",
    "        self.x = x\n",
    "        self.y = y\n",
    "        self.z = z"
   ]
  },
  {
   "cell_type": "code",
   "execution_count": null,
   "id": "e9f8eed4",
   "metadata": {},
   "outputs": [],
   "source": [
    "objeto = ClaseDemo(1,2,3)"
   ]
  },
  {
   "cell_type": "code",
   "execution_count": null,
   "id": "82d05302",
   "metadata": {},
   "outputs": [],
   "source": [
    "getattr(objeto, 'x')"
   ]
  },
  {
   "cell_type": "code",
   "execution_count": null,
   "id": "10e7f709",
   "metadata": {},
   "outputs": [],
   "source": [
    "objeto.x"
   ]
  },
  {
   "cell_type": "code",
   "execution_count": null,
   "id": "bc2c2a43",
   "metadata": {},
   "outputs": [],
   "source": [
    "dict(objeto)"
   ]
  },
  {
   "cell_type": "code",
   "execution_count": null,
   "id": "228ff977",
   "metadata": {},
   "outputs": [],
   "source": [
    "from dataclasses import dataclass"
   ]
  },
  {
   "cell_type": "code",
   "execution_count": null,
   "id": "d5fb182e",
   "metadata": {},
   "outputs": [],
   "source": [
    "@dataclass\n",
    "class DataClassDemo():\n",
    "    x: int\n",
    "    y: int\n",
    "    z: int"
   ]
  },
  {
   "cell_type": "code",
   "execution_count": null,
   "id": "e14b6374",
   "metadata": {},
   "outputs": [],
   "source": [
    "dataobjeto = DataClassDemo(1,2,3)"
   ]
  },
  {
   "cell_type": "code",
   "execution_count": null,
   "id": "88f72845",
   "metadata": {},
   "outputs": [],
   "source": [
    "dataobjeto."
   ]
  },
  {
   "cell_type": "code",
   "execution_count": null,
   "id": "3f6cfbc4",
   "metadata": {},
   "outputs": [],
   "source": [
    "dir(dataobjeto)"
   ]
  },
  {
   "cell_type": "code",
   "execution_count": null,
   "id": "4275e7d3",
   "metadata": {},
   "outputs": [],
   "source": [
    "def html(funcion):\n",
    "    def codigo(texto):\n",
    "        return f\"<html>\\n<body>\\n{texto}\\n</body>\\n<\\html>\"\n",
    "    return codigo"
   ]
  },
  {
   "cell_type": "code",
   "execution_count": null,
   "id": "92fc3ee9",
   "metadata": {},
   "outputs": [],
   "source": [
    "def parrafo(texto):\n",
    "    return f\"<p>{texto}</p>\""
   ]
  },
  {
   "cell_type": "code",
   "execution_count": null,
   "id": "04aea580",
   "metadata": {},
   "outputs": [],
   "source": [
    "parrafo(\"Hola\")"
   ]
  },
  {
   "cell_type": "code",
   "execution_count": null,
   "id": "280d99c3",
   "metadata": {},
   "outputs": [],
   "source": [
    "html(parrafo)('Hola')"
   ]
  },
  {
   "cell_type": "code",
   "execution_count": null,
   "id": "328aac18",
   "metadata": {},
   "outputs": [],
   "source": [
    "@html\n",
    "def parrafo(texto):\n",
    "    return f\"<p>{texto}</p>\""
   ]
  },
  {
   "cell_type": "code",
   "execution_count": null,
   "id": "c3c4791b",
   "metadata": {},
   "outputs": [],
   "source": [
    "parrafo(\"Hola\")"
   ]
  },
  {
   "cell_type": "code",
   "execution_count": null,
   "id": "e2f979ed",
   "metadata": {},
   "outputs": [],
   "source": [
    "from array import array"
   ]
  },
  {
   "cell_type": "code",
   "execution_count": null,
   "id": "1896f6ba",
   "metadata": {},
   "outputs": [],
   "source": [
    "array"
   ]
  },
  {
   "cell_type": "code",
   "execution_count": null,
   "id": "b0032c27",
   "metadata": {},
   "outputs": [],
   "source": []
  }
 ],
 "metadata": {
  "kernelspec": {
   "display_name": "Python 3 (ipykernel)",
   "language": "python",
   "name": "python3"
  },
  "language_info": {
   "codemirror_mode": {
    "name": "ipython",
    "version": 3
   },
   "file_extension": ".py",
   "mimetype": "text/x-python",
   "name": "python",
   "nbconvert_exporter": "python",
   "pygments_lexer": "ipython3",
   "version": "3.9.2"
  }
 },
 "nbformat": 4,
 "nbformat_minor": 5
}
