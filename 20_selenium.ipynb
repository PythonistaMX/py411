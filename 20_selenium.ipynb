{
 "cells": [
  {
   "cell_type": "markdown",
   "metadata": {},
   "source": [
    "<a href=\"https://pythonista.io\"> <img src=\"img/pythonista.png\"></a>"
   ]
  },
  {
   "cell_type": "markdown",
   "metadata": {},
   "source": [
    "#  *Selenium WebDriver*."
   ]
  },
  {
   "cell_type": "markdown",
   "metadata": {},
   "source": [
    "*Selenium WebDriver* es una herramienta que permite emular las operaciones realizadas por un usuario en un navegador, de tal forma que es posible automatizar pruebas sobre una interfaz web.\n",
    "\n",
    "La documentación de *Selenium WebDriver*  está disponible en la siguiente liga:\n",
    "https://www.selenium.dev/documentation/webdriver/"
   ]
  },
  {
   "cell_type": "markdown",
   "metadata": {},
   "source": [
    "## *Selenium* en *Python*."
   ]
  },
  {
   "cell_type": "markdown",
   "metadata": {},
   "source": [
    "Aún cuando *Selenium WebDriver* está escrito originalmente el *Java*, existen implementaciones para diversos lenguajes de programación.\n",
    "\n",
    "Se ha optado por usar la implementación de *Selenium Webdriver* en *Python* para poder aprovechar las características interactivas de las *notebooks* de *Jupyter*.\n",
    "\n",
    "La documentación de *Selenium WebDriver* en *Python* puede ser consultada en a siguiente liga:\n",
    "\n",
    "https://selenium-python.readthedocs.io/"
   ]
  },
  {
   "cell_type": "markdown",
   "metadata": {},
   "source": [
    "* La siguiente celda instalará el software necesario."
   ]
  },
  {
   "cell_type": "code",
   "execution_count": null,
   "metadata": {
    "scrolled": true
   },
   "outputs": [],
   "source": [
    "!pip install selenium"
   ]
  },
  {
   "cell_type": "markdown",
   "metadata": {},
   "source": [
    "## Drivers de *Selenium*."
   ]
  },
  {
   "cell_type": "markdown",
   "metadata": {},
   "source": [
    "*Selenium WenDriver* permite aprovechar las funcionalidades de los navegadores más populares, mendiante el uso de *drivers* específicos. Los navegadores soportados son:\n",
    "\n",
    "* *Google Chrome*.\n",
    "* *Mozilla Firefox*.\n",
    "* *Microsoft Edge*.\n",
    "* *Safari*.\n",
    "\n",
    "https://www.selenium.dev/documentation/webdriver/getting_started/install_drivers/"
   ]
  },
  {
   "cell_type": "markdown",
   "metadata": {},
   "source": [
    "### Gestión de *drivers* de *Selenium*.\n",
    "\n",
    "Para facilitar la instalaciónd e los drivers de *Selenium* se utilizará el paquete *webdriver-manager*.  \n",
    "\n",
    "https://github.com/SergeyPirogov/webdriver_manager"
   ]
  },
  {
   "cell_type": "code",
   "execution_count": null,
   "metadata": {
    "scrolled": false
   },
   "outputs": [],
   "source": [
    "!pip install webdriver-manager"
   ]
  },
  {
   "cell_type": "markdown",
   "metadata": {},
   "source": [
    "## Ejecución de *Selenium*."
   ]
  },
  {
   "cell_type": "markdown",
   "metadata": {},
   "source": [
    "El objeto ```selenium.webdriver``` es el componente principal que permite realizar una conexión con el navegador seleccionado mediante un driver específico.\n",
    "\n",
    "El resultado de esta colección es un objeto de la clase ```Webdriver```."
   ]
  },
  {
   "cell_type": "markdown",
   "metadata": {},
   "source": [
    "* La siguiente celda creará un objeto instanciado de ```Webdriver``` usando el *driver* de *Firefox* al que se le asignará el nombre ```driver```.\n",
    "\n",
    "**NOTA:** Para fines de simplicidad, a partir de ahora se usará ```driver``` para hacer referencia a un objeto instanciado de ```Webdriver``` ."
   ]
  },
  {
   "cell_type": "markdown",
   "metadata": {},
   "source": [
    "### Habilitación de un dispositivo virtual SOLO en Linux."
   ]
  },
  {
   "cell_type": "code",
   "execution_count": null,
   "metadata": {},
   "outputs": [],
   "source": [
    " pip install PyVirtualDisplay"
   ]
  },
  {
   "cell_type": "code",
   "execution_count": 1,
   "metadata": {},
   "outputs": [
    {
     "data": {
      "text/plain": [
       "<pyvirtualdisplay.display.Display at 0x7fecda762490>"
      ]
     },
     "execution_count": 1,
     "metadata": {},
     "output_type": "execute_result"
    }
   ],
   "source": [
    "from pyvirtualdisplay import Display\n",
    "display = Display(visible=0, size=(800, 600))\n",
    "display.start()"
   ]
  },
  {
   "cell_type": "code",
   "execution_count": 2,
   "metadata": {
    "scrolled": true
   },
   "outputs": [
    {
     "name": "stderr",
     "output_type": "stream",
     "text": [
      "\n",
      "\n",
      "====== WebDriver manager ======\n",
      "Current firefox version is 91.5\n",
      "Get LATEST geckodriver version for 91.5 firefox\n",
      "Driver [/home/oi/.wdm/drivers/geckodriver/linux64/v0.30.0/geckodriver] found in cache\n",
      "/tmp/ipykernel_1931/1113904490.py:5: DeprecationWarning: executable_path has been deprecated, please pass in a Service object\n",
      "  driver = webdriver.Firefox(executable_path=GeckoDriverManager().install())\n"
     ]
    }
   ],
   "source": [
    "from selenium import webdriver\n",
    "from webdriver_manager.firefox import GeckoDriverManager\n",
    "\n",
    "# driver = webdriver.Chrome('/home/user/drivers/chromedriver')\n",
    "driver = webdriver.Firefox(executable_path=GeckoDriverManager().install())"
   ]
  },
  {
   "cell_type": "code",
   "execution_count": 3,
   "metadata": {
    "scrolled": true
   },
   "outputs": [
    {
     "data": {
      "text/plain": [
       "selenium.webdriver.firefox.webdriver.WebDriver"
      ]
     },
     "execution_count": 3,
     "metadata": {},
     "output_type": "execute_result"
    }
   ],
   "source": [
    "type(driver)"
   ]
  },
  {
   "cell_type": "markdown",
   "metadata": {},
   "source": [
    "### Acceso a una *URL*.\n",
    "\n",
    "El método ```driver.get()``` permite al objeto insanciado acceder a una *URL* que se ingresa como aregumento."
   ]
  },
  {
   "cell_type": "markdown",
   "metadata": {},
   "source": [
    "* La siguiente celda realizará una conexión con el contenido localizado en [```http://localhost```](http://localhost)."
   ]
  },
  {
   "cell_type": "code",
   "execution_count": null,
   "metadata": {},
   "outputs": [],
   "source": [
    "!sudo rm -rf /var/www/html/*"
   ]
  },
  {
   "cell_type": "code",
   "execution_count": null,
   "metadata": {},
   "outputs": [],
   "source": [
    "!sudo unzip data/html.zip -d /var/www/html/"
   ]
  },
  {
   "cell_type": "code",
   "execution_count": null,
   "metadata": {},
   "outputs": [],
   "source": [
    "ls /var/www/html"
   ]
  },
  {
   "cell_type": "code",
   "execution_count": 4,
   "metadata": {},
   "outputs": [],
   "source": [
    "driver.get(\"http://localhost\")"
   ]
  },
  {
   "cell_type": "code",
   "execution_count": 5,
   "metadata": {},
   "outputs": [
    {
     "data": {
      "text/plain": [
       "True"
      ]
     },
     "execution_count": 5,
     "metadata": {},
     "output_type": "execute_result"
    }
   ],
   "source": [
    "driver.save_full_page_screenshot(\"pantalla.png\")"
   ]
  },
  {
   "cell_type": "markdown",
   "metadata": {},
   "source": [
    "### Selección de elementos.\n",
    "\n",
    "El método ```driver.find_element()``` permite realizar búsquedas dentro del sitio.\n",
    "\n",
    "```\n",
    "driver.find_element(by=<metodo>, value=\"valor\")\n",
    "```\n",
    "Donde:\n",
    "\n",
    "* ```método``` puede ser alguna de las siguientes cadenas de caracteres: \n",
    "   * ```'xpath'```\n",
    "   * ```'css selector'```\n",
    "   * ```'class name'```\n",
    "   * ```'id'```\n",
    "   * ```'tag name'```\n",
    "   * ```'name'```\n",
    "   * ```'link text'```\n",
    "   * ```'partial link text'```\n",
    "* ```valor``` puede ser un criterio de búsqueda específico.\n",
    "\n",
    "En caso de que se encuentren uno o más elementos, éstos serán representados mediante un objeto de la clase ```WebElement```.\n",
    "\n",
    "**NOTA:** Para fines de simplicidad, a partir de ahora se usará ```element``` para hacer referencia a un objeto instanciado de ```WebElement``` ."
   ]
  },
  {
   "cell_type": "code",
   "execution_count": 7,
   "metadata": {
    "scrolled": true
   },
   "outputs": [
    {
     "data": {
      "text/plain": [
       "<selenium.webdriver.remote.webelement.WebElement (session=\"b34e7e15-4119-48d6-a999-63e4d486adf3\", element=\"7e02ab34-f838-4475-8d78-df072f760127\")>"
      ]
     },
     "execution_count": 7,
     "metadata": {},
     "output_type": "execute_result"
    }
   ],
   "source": [
    "driver.find_element(by=\"tag name\", value=\"body\")"
   ]
  },
  {
   "cell_type": "code",
   "execution_count": 8,
   "metadata": {},
   "outputs": [],
   "source": [
    "sitio = driver.find_element(by=\"tag name\", value=\"body\")"
   ]
  },
  {
   "cell_type": "markdown",
   "metadata": {},
   "source": [
    "### El método ```element.screenshot()```."
   ]
  },
  {
   "cell_type": "code",
   "execution_count": 9,
   "metadata": {
    "scrolled": true
   },
   "outputs": [
    {
     "data": {
      "text/plain": [
       "True"
      ]
     },
     "execution_count": 9,
     "metadata": {},
     "output_type": "execute_result"
    }
   ],
   "source": [
    "sitio.screenshot(\"foto.png\")"
   ]
  },
  {
   "cell_type": "code",
   "execution_count": 10,
   "metadata": {},
   "outputs": [
    {
     "data": {
      "text/plain": [
       "['__abstractmethods__',\n",
       " '__class__',\n",
       " '__delattr__',\n",
       " '__dict__',\n",
       " '__dir__',\n",
       " '__doc__',\n",
       " '__eq__',\n",
       " '__format__',\n",
       " '__ge__',\n",
       " '__getattribute__',\n",
       " '__gt__',\n",
       " '__hash__',\n",
       " '__init__',\n",
       " '__init_subclass__',\n",
       " '__le__',\n",
       " '__lt__',\n",
       " '__module__',\n",
       " '__ne__',\n",
       " '__new__',\n",
       " '__reduce__',\n",
       " '__reduce_ex__',\n",
       " '__repr__',\n",
       " '__setattr__',\n",
       " '__sizeof__',\n",
       " '__str__',\n",
       " '__subclasshook__',\n",
       " '__weakref__',\n",
       " '_abc_impl',\n",
       " '_execute',\n",
       " '_id',\n",
       " '_parent',\n",
       " '_upload',\n",
       " 'accessible_name',\n",
       " 'aria_role',\n",
       " 'clear',\n",
       " 'click',\n",
       " 'find_element',\n",
       " 'find_element_by_class_name',\n",
       " 'find_element_by_css_selector',\n",
       " 'find_element_by_id',\n",
       " 'find_element_by_link_text',\n",
       " 'find_element_by_name',\n",
       " 'find_element_by_partial_link_text',\n",
       " 'find_element_by_tag_name',\n",
       " 'find_element_by_xpath',\n",
       " 'find_elements',\n",
       " 'find_elements_by_class_name',\n",
       " 'find_elements_by_css_selector',\n",
       " 'find_elements_by_id',\n",
       " 'find_elements_by_link_text',\n",
       " 'find_elements_by_name',\n",
       " 'find_elements_by_partial_link_text',\n",
       " 'find_elements_by_tag_name',\n",
       " 'find_elements_by_xpath',\n",
       " 'get_attribute',\n",
       " 'get_dom_attribute',\n",
       " 'get_property',\n",
       " 'id',\n",
       " 'is_displayed',\n",
       " 'is_enabled',\n",
       " 'is_selected',\n",
       " 'location',\n",
       " 'location_once_scrolled_into_view',\n",
       " 'parent',\n",
       " 'rect',\n",
       " 'screenshot',\n",
       " 'screenshot_as_base64',\n",
       " 'screenshot_as_png',\n",
       " 'send_keys',\n",
       " 'shadow_root',\n",
       " 'size',\n",
       " 'submit',\n",
       " 'tag_name',\n",
       " 'text',\n",
       " 'value_of_css_property']"
      ]
     },
     "execution_count": 10,
     "metadata": {},
     "output_type": "execute_result"
    }
   ],
   "source": [
    "dir(sitio)"
   ]
  },
  {
   "cell_type": "markdown",
   "metadata": {},
   "source": [
    "### Uso de los atributos y métodos de ```element```."
   ]
  },
  {
   "cell_type": "code",
   "execution_count": 11,
   "metadata": {},
   "outputs": [
    {
     "data": {
      "text/plain": [
       "'RESTAURANTE-BAR\\n\"LA FONDA DE LA MARQUESA\"\\nEL LUGAR DE LOS AMIGOS Y CÓMPLICES DESDE 1987\\nPrincipal Menú Equipo Reservaciones Paquetes Mesas\\nSomos la mejor opción de la nueva cocina mexicana al sur de la Ciudad de México.\\nNuestros platillos están basados en las típicas recetas de la abuela, pero con un toque de modernidad.\\n\"¡El pan de pulque es tan delicioso como los recuerdos de mi juventud!\"\\n-Rigoberto Astudillo. Cliente desde 2004.\\n\\nEste mes le ofrecemos nuestro Menú Tradicional de $250.00 a sólo $180.00 pesos.\\nNo incluye bebidas\\nPregunte por nuestros paquetes para grupos y eventos especiales.\\nSomos orgullosos miembros de la AMECOT.\\nSábados y Domingos, Desayuno Buffet. De 9:00 a 13:00hrs.\\nTOCA AQUÍ PARA VER NUESTRO MENÚ.\\nTODOS LO QUE COLABORAMOS EN LA FONDA DE LA MARQUESA ESTAMOS PARA SERVIRTE.\\nCalle Mar del Oro No. 18, Col. San Jacinto el Bajo, Coyoacán, C.P. 100003, México, D.F.\\nCorreo electrónico: reservaciones@fonda-marquesa.com.mx\\nReservaciones al (55) 1161-11345'"
      ]
     },
     "execution_count": 11,
     "metadata": {},
     "output_type": "execute_result"
    }
   ],
   "source": [
    "sitio.text"
   ]
  },
  {
   "cell_type": "code",
   "execution_count": 12,
   "metadata": {},
   "outputs": [
    {
     "data": {
      "text/plain": [
       "[<selenium.webdriver.remote.webelement.WebElement (session=\"b34e7e15-4119-48d6-a999-63e4d486adf3\", element=\"b49c1928-29b7-4b1a-96b6-1307121da342\")>,\n",
       " <selenium.webdriver.remote.webelement.WebElement (session=\"b34e7e15-4119-48d6-a999-63e4d486adf3\", element=\"5f6393cb-9db5-43e9-bd07-dbc1d0d0dcbc\")>,\n",
       " <selenium.webdriver.remote.webelement.WebElement (session=\"b34e7e15-4119-48d6-a999-63e4d486adf3\", element=\"f838b7f7-78e9-4871-9911-038faefd7f83\")>,\n",
       " <selenium.webdriver.remote.webelement.WebElement (session=\"b34e7e15-4119-48d6-a999-63e4d486adf3\", element=\"e20eb154-82a8-4e01-b4c9-759c5a888a30\")>,\n",
       " <selenium.webdriver.remote.webelement.WebElement (session=\"b34e7e15-4119-48d6-a999-63e4d486adf3\", element=\"75e0a0f0-701a-4c06-bbd8-26861cfb4830\")>,\n",
       " <selenium.webdriver.remote.webelement.WebElement (session=\"b34e7e15-4119-48d6-a999-63e4d486adf3\", element=\"afd5c875-9098-4d7b-a23a-82b80c446b13\")>,\n",
       " <selenium.webdriver.remote.webelement.WebElement (session=\"b34e7e15-4119-48d6-a999-63e4d486adf3\", element=\"d7fa6384-ced7-4872-a26d-47f8dfb29042\")>,\n",
       " <selenium.webdriver.remote.webelement.WebElement (session=\"b34e7e15-4119-48d6-a999-63e4d486adf3\", element=\"d6e7b82a-c96a-433b-b79b-e000e86d58e9\")>,\n",
       " <selenium.webdriver.remote.webelement.WebElement (session=\"b34e7e15-4119-48d6-a999-63e4d486adf3\", element=\"3cbd261e-671f-49cc-ba1f-a47105950326\")>,\n",
       " <selenium.webdriver.remote.webelement.WebElement (session=\"b34e7e15-4119-48d6-a999-63e4d486adf3\", element=\"f5279850-e435-4c9c-b556-94e3cd5c6ab8\")>,\n",
       " <selenium.webdriver.remote.webelement.WebElement (session=\"b34e7e15-4119-48d6-a999-63e4d486adf3\", element=\"42f7cc86-4025-4067-8e01-6a9a7ca7f874\")>,\n",
       " <selenium.webdriver.remote.webelement.WebElement (session=\"b34e7e15-4119-48d6-a999-63e4d486adf3\", element=\"001ebd15-f30b-4c4b-8887-c5406d52eb2a\")>,\n",
       " <selenium.webdriver.remote.webelement.WebElement (session=\"b34e7e15-4119-48d6-a999-63e4d486adf3\", element=\"973f9eca-d30a-4a01-a205-62b732ebd3e9\")>]"
      ]
     },
     "execution_count": 12,
     "metadata": {},
     "output_type": "execute_result"
    }
   ],
   "source": [
    "sitio.find_elements(by=\"tag name\", value=\"p\")"
   ]
  },
  {
   "cell_type": "code",
   "execution_count": 13,
   "metadata": {},
   "outputs": [
    {
     "name": "stdout",
     "output_type": "stream",
     "text": [
      "\n",
      "----\n",
      "\n",
      "\n",
      "----\n",
      "\n",
      "Somos la mejor opción de la nueva cocina mexicana al sur de la Ciudad de México.\n",
      "Nuestros platillos están basados en las típicas recetas de la abuela, pero con un toque de modernidad.\n",
      "----\n",
      "\n",
      "\n",
      "----\n",
      "\n",
      "Este mes le ofrecemos nuestro Menú Tradicional de $250.00 a sólo $180.00 pesos.\n",
      "No incluye bebidas\n",
      "----\n",
      "\n",
      "Pregunte por nuestros paquetes para grupos y eventos especiales.\n",
      "----\n",
      "\n",
      "Somos orgullosos miembros de la AMECOT.\n",
      "----\n",
      "\n",
      "\n",
      "----\n",
      "\n",
      "Sábados y Domingos, Desayuno Buffet. De 9:00 a 13:00hrs.\n",
      "----\n",
      "\n",
      "\n",
      "----\n",
      "\n",
      "TOCA AQUÍ PARA VER NUESTRO MENÚ.\n",
      "----\n",
      "\n",
      "\n",
      "----\n",
      "\n",
      "TODOS LO QUE COLABORAMOS EN LA FONDA DE LA MARQUESA ESTAMOS PARA SERVIRTE.\n",
      "----\n",
      "\n"
     ]
    }
   ],
   "source": [
    "for item in sitio.find_elements(by=\"tag name\", value=\"p\"):\n",
    "    print(item.text + '\\n----\\n')"
   ]
  },
  {
   "cell_type": "code",
   "execution_count": 14,
   "metadata": {},
   "outputs": [],
   "source": [
    "anchors = sitio.find_elements(by=\"css selector\", value=\"a\")"
   ]
  },
  {
   "cell_type": "code",
   "execution_count": 15,
   "metadata": {},
   "outputs": [
    {
     "data": {
      "text/plain": [
       "[<selenium.webdriver.remote.webelement.WebElement (session=\"b34e7e15-4119-48d6-a999-63e4d486adf3\", element=\"6c338b6a-ddc1-4a19-80cf-cd16b9c1516a\")>,\n",
       " <selenium.webdriver.remote.webelement.WebElement (session=\"b34e7e15-4119-48d6-a999-63e4d486adf3\", element=\"1ef9ab6f-d17b-4041-ac14-c31b31f82fa1\")>,\n",
       " <selenium.webdriver.remote.webelement.WebElement (session=\"b34e7e15-4119-48d6-a999-63e4d486adf3\", element=\"263476c2-4124-4a71-ad68-e9f24d1096d8\")>,\n",
       " <selenium.webdriver.remote.webelement.WebElement (session=\"b34e7e15-4119-48d6-a999-63e4d486adf3\", element=\"1680a7c0-3172-4bfe-a5ac-300c41973d04\")>,\n",
       " <selenium.webdriver.remote.webelement.WebElement (session=\"b34e7e15-4119-48d6-a999-63e4d486adf3\", element=\"e4390fa9-c861-45d4-bbeb-d7689c80d79e\")>,\n",
       " <selenium.webdriver.remote.webelement.WebElement (session=\"b34e7e15-4119-48d6-a999-63e4d486adf3\", element=\"064bbd11-0b0c-4f0a-a32a-d74bd5d921c4\")>,\n",
       " <selenium.webdriver.remote.webelement.WebElement (session=\"b34e7e15-4119-48d6-a999-63e4d486adf3\", element=\"455bfa94-1b85-4be2-87d6-6a8859483713\")>,\n",
       " <selenium.webdriver.remote.webelement.WebElement (session=\"b34e7e15-4119-48d6-a999-63e4d486adf3\", element=\"1bc04577-6bbf-483a-b8e8-ef2d83a85e87\")>,\n",
       " <selenium.webdriver.remote.webelement.WebElement (session=\"b34e7e15-4119-48d6-a999-63e4d486adf3\", element=\"439e36c0-df50-4a9e-bfbf-e283f080ebdf\")>,\n",
       " <selenium.webdriver.remote.webelement.WebElement (session=\"b34e7e15-4119-48d6-a999-63e4d486adf3\", element=\"99dbeec3-2490-43c4-8597-e49784688d60\")>]"
      ]
     },
     "execution_count": 15,
     "metadata": {},
     "output_type": "execute_result"
    }
   ],
   "source": [
    "anchors"
   ]
  },
  {
   "cell_type": "code",
   "execution_count": 16,
   "metadata": {},
   "outputs": [
    {
     "name": "stdout",
     "output_type": "stream",
     "text": [
      "http://localhost/index.html#encabezado\n",
      "http://localhost/#\n",
      "http://localhost/menu.html\n",
      "http://localhost/equipo.html\n",
      "http://localhost/reservaciones.html\n",
      "http://localhost/paquetes.html\n",
      "http://localhost/mesas.html\n",
      "http://localhost/menu.html\n",
      "http://localhost/equipo.html\n",
      "mailto:reservaciones@fonda-marquesa.com.mx\n"
     ]
    }
   ],
   "source": [
    "for item in anchors:\n",
    "    print(item.get_attribute(\"href\"))"
   ]
  },
  {
   "cell_type": "code",
   "execution_count": null,
   "metadata": {},
   "outputs": [],
   "source": [
    "sitio.find_elements(by=\"xpath\", value=\"//*[contains(text(),'Menú')]\")"
   ]
  },
  {
   "cell_type": "code",
   "execution_count": 17,
   "metadata": {},
   "outputs": [],
   "source": [
    "menu = sitio.find_elements(by=\"xpath\", \n",
    "                           value=\"//*[contains(text(),'Menú')]\")"
   ]
  },
  {
   "cell_type": "markdown",
   "metadata": {},
   "source": [
    "### El método ```element.click()```.\n",
    "\n",
    "El método ```element.click()``` permite emular el evento correspondiente a hacer *click* con un dispositivo apuntador sobre el elemento de referencia, desencadenando una acción correspondiente en caso de que esté habilitada."
   ]
  },
  {
   "cell_type": "code",
   "execution_count": 18,
   "metadata": {},
   "outputs": [],
   "source": [
    "nuevo_sitio = menu[0].click()"
   ]
  },
  {
   "cell_type": "code",
   "execution_count": 19,
   "metadata": {},
   "outputs": [
    {
     "data": {
      "text/plain": [
       "True"
      ]
     },
     "execution_count": 19,
     "metadata": {},
     "output_type": "execute_result"
    }
   ],
   "source": [
    "driver.save_full_page_screenshot(\"menu.png\")"
   ]
  },
  {
   "cell_type": "markdown",
   "metadata": {},
   "source": [
    "### Gestión de ventanas."
   ]
  },
  {
   "cell_type": "code",
   "execution_count": 33,
   "metadata": {},
   "outputs": [],
   "source": [
    "driver.get('http://localhost')"
   ]
  },
  {
   "cell_type": "code",
   "execution_count": 34,
   "metadata": {},
   "outputs": [],
   "source": [
    "reservaciones = driver.find_elements(by=\"xpath\", \n",
    "                      value=\"//*[contains(text(),'Reservaciones')]\")"
   ]
  },
  {
   "cell_type": "code",
   "execution_count": 35,
   "metadata": {},
   "outputs": [
    {
     "data": {
      "text/plain": [
       "'http://localhost/reservaciones.html'"
      ]
     },
     "execution_count": 35,
     "metadata": {},
     "output_type": "execute_result"
    }
   ],
   "source": [
    "reservaciones[0].get_attribute(\"href\")"
   ]
  },
  {
   "cell_type": "code",
   "execution_count": 36,
   "metadata": {},
   "outputs": [],
   "source": [
    "reservaciones[0].click()"
   ]
  },
  {
   "cell_type": "markdown",
   "metadata": {},
   "source": [
    "### El atributo ``` driver.switch.to```."
   ]
  },
  {
   "cell_type": "code",
   "execution_count": 37,
   "metadata": {},
   "outputs": [],
   "source": [
    "alerta = driver.switch_to.alert"
   ]
  },
  {
   "cell_type": "code",
   "execution_count": 38,
   "metadata": {},
   "outputs": [
    {
     "data": {
      "text/plain": [
       "'Por favor escriba su nombre'"
      ]
     },
     "execution_count": 38,
     "metadata": {},
     "output_type": "execute_result"
    }
   ],
   "source": [
    "alerta.text"
   ]
  },
  {
   "cell_type": "code",
   "execution_count": 39,
   "metadata": {},
   "outputs": [],
   "source": [
    "alerta.send_keys(\"Pythonista\")"
   ]
  },
  {
   "cell_type": "code",
   "execution_count": 40,
   "metadata": {},
   "outputs": [],
   "source": [
    "alerta.accept()"
   ]
  },
  {
   "cell_type": "code",
   "execution_count": 41,
   "metadata": {},
   "outputs": [],
   "source": [
    "saludo = driver.switch_to.alert"
   ]
  },
  {
   "cell_type": "code",
   "execution_count": 42,
   "metadata": {},
   "outputs": [
    {
     "data": {
      "text/plain": [
       "'Hola Pythonista. ¿Desea reservar?'"
      ]
     },
     "execution_count": 42,
     "metadata": {},
     "output_type": "execute_result"
    }
   ],
   "source": [
    "saludo.text"
   ]
  },
  {
   "cell_type": "code",
   "execution_count": 43,
   "metadata": {},
   "outputs": [],
   "source": [
    "saludo.accept()"
   ]
  },
  {
   "cell_type": "code",
   "execution_count": 44,
   "metadata": {},
   "outputs": [
    {
     "data": {
      "text/plain": [
       "True"
      ]
     },
     "execution_count": 44,
     "metadata": {},
     "output_type": "execute_result"
    }
   ],
   "source": [
    "driver.save_full_page_screenshot('reservaciones.png')"
   ]
  },
  {
   "cell_type": "code",
   "execution_count": 45,
   "metadata": {},
   "outputs": [],
   "source": [
    "driver.close()"
   ]
  },
  {
   "cell_type": "markdown",
   "metadata": {},
   "source": [
    "<p style=\"text-align: center\"><a rel=\"license\" href=\"http://creativecommons.org/licenses/by/4.0/\"><img alt=\"Licencia Creative Commons\" style=\"border-width:0\" src=\"https://i.creativecommons.org/l/by/4.0/80x15.png\" /></a><br />Esta obra está bajo una <a rel=\"license\" href=\"http://creativecommons.org/licenses/by/4.0/\">Licencia Creative Commons Atribución 4.0 Internacional</a>.</p>\n",
    "<p style=\"text-align: center\">&copy; José Luis Chiquete Valdivieso. 2022.</p>"
   ]
  }
 ],
 "metadata": {
  "kernelspec": {
   "display_name": "Python 3 (ipykernel)",
   "language": "python",
   "name": "python3"
  },
  "language_info": {
   "codemirror_mode": {
    "name": "ipython",
    "version": 3
   },
   "file_extension": ".py",
   "mimetype": "text/x-python",
   "name": "python",
   "nbconvert_exporter": "python",
   "pygments_lexer": "ipython3",
   "version": "3.9.2"
  }
 },
 "nbformat": 4,
 "nbformat_minor": 2
}
