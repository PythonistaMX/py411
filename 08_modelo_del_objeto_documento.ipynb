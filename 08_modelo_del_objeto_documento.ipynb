{
 "cells": [
  {
   "cell_type": "markdown",
   "metadata": {},
   "source": [
    "## El modelo del objeto documento (*DOM*).\n",
    "\n",
    "Al abrir un documento *HTML* en cualquier navegador, dicho documento es considerado com un objeto, el  cual a su vez contiene otros objetos o elementos. \n",
    "\n",
    "El modelo del objeto documento (*DOM*) es una manera estandarizada en la que se puede acceder a los elementos de un documento *HTML* mediante *Javascript*."
   ]
  },
  {
   "cell_type": "markdown",
   "metadata": {},
   "source": [
    "### Árbol de nodos.\n",
    "\n",
    "El *DOM* permite identificar a los elementos de un documento *HTML* como una serie de nodos que a su vez podrían contener a otros nodos, los cuales se van bifurcando a partir de la raiz del documento tal como lo hacen las ramas de un árbol a partir de su tronco.\n",
    "\n",
    "### El objeto ```document```.\n",
    "\n",
    "El objeto ```document``` contiene al documento *HTML* que se despiega en la ventana de un navegador y es mediante el acceso a sus propiedades y métodos como se puede acceder a los elementos que contiene.\n",
    "\n",
    "\n",
    "### Tipos de nodos que puede contener el *DOM*.\n",
    "\n",
    "* ```Document```, el cual corresponde al nodo raíz.\n",
    "* ```Element```, el cual representa a cada elemento por medio de su etiqueta.\n",
    "*  ```Attr```, correspondiente a un atributo del elemento.\n",
    "* ```Text```, contiene el texto que está dentro del elemento.\n",
    "* ```Comment```, comentarios del documento.\n",
    " \n",
    "### Manipulación de nodos.\n",
    "\n",
    "Mediante el *DOM*, es posible acceder a cada elemento del documento *HTML* y realizar las siguientes operaciones:\n",
    "\n",
    "* Acceder a las propiedades de un elemento.\n",
    "* Establecer valores de las propiedades de un elemento.\n",
    "* Mover un elemento de la página.\n",
    "* Crear o eliminar elementos.\n",
    "\n",
    "**NOTA:** El acceso a los elementos de un documento *HTML* solamente pueden ser realizados cuando la página se haya cargado por completo.\n",
    "\n",
    "### Acceso a los nodos.\n",
    "\n",
    "Como se mencionó previamente, el *DOM* presenta una estructura similar a la del tronco de un árbol a partir del cual se bifurcan ramas. Se dice que el elemento que contiene a otros elementos es el padre de estos.\n",
    "\n",
    "```\n",
    "  padre (parent)\n",
    "  ├─hermano (sibling)\n",
    "  ├─elemento\n",
    "  │ └──── hijos (children)\n",
    "  └───hermano (sibling)\n",
    "```"
   ]
  },
  {
   "cell_type": "markdown",
   "metadata": {},
   "source": [
    "## El método ```document.getRootNode()```.\n",
    "\n",
    "Este método permite acceder al nodo raíz del documento. El elemento resultante contiene a los elementos ```head``` y ```body``` como nodos hijo."
   ]
  },
  {
   "cell_type": "markdown",
   "metadata": {},
   "source": [
    "**Ejemplo:**:\n",
    "\n",
    "* Abrir una ventana en blanco dentro de un navegador (se recomienda Firefox).\n",
    "* Seleccionar la consola del navegador a partir de la inspección de los elementos.\n",
    "* Al ejecutar el siguente código se asignará el nodo raíz será asignado a la variable ```documento```.\n",
    "\n",
    "``` javascript\n",
    "const documento = document.getRootNode();\n",
    "```\n",
    "\n",
    "* Para acceder al elemento ```body``` del documento *HTML* se ejecuta lo siguiente:\n",
    "\n",
    "``` javascript\n",
    "documento.body;\n",
    "```\n",
    "\n",
    "Se desplegará el contenido y los atributos del elemento ```body```."
   ]
  },
  {
   "cell_type": "markdown",
   "metadata": {},
   "source": [
    "### Propiedades básicas de un elemento.\n",
    "\n",
    "Los elementos contienen múltiples propiedades emanadas de ```document```, pero las más características son: \n",
    "\n",
    "* ```textContent```, la cual corresponde al texto del elemento.\n",
    "* ```children```, la cual corresponde a un arreglo que enlista a los elementos que contiene el elemento.\n",
    "* ```childNodes```, la cual corresponde a un arreglo que enlista los nodos que contiene el elemento.\n",
    "* ```innerHTML```, la cual corresponde a un objeto de tipo ```String``` que contiene el código *HTML* del elemento.\n",
    "* ```innerText```, la cual corresponde a un objeto de tipo ```String``` que contiene el texto del elemento y sus elementos contenidos.\n",
    "* ```id```, la cual corresponde a un objeto de tipo ```String``` que contiene el atributo ```id``` del elemento.\n",
    "* ```className```, la cual corresponde al valor del atributo ```class``` del elemento.\n",
    "* ```parentElement``` la cual corresponde al elemento padre del elemento actual.\n",
    "* ```parentNode``` la cual corresponde al nodo padre del elemento actual.\n",
    "* ```style``` la cual contiene los propiedades de estilo del elemento."
   ]
  },
  {
   "cell_type": "markdown",
   "metadata": {},
   "source": [
    "**Ejemplo:**"
   ]
  },
  {
   "cell_type": "code",
   "execution_count": null,
   "metadata": {},
   "outputs": [],
   "source": [
    "%%html\n",
    "<div id=\"contenedor-1\">\n",
    "  <div id=\"ejemplo-1\">Texto de ejemplo <b>con efectos</b> y <i>más efectos.</i></div>\n",
    "<div>"
   ]
  },
  {
   "cell_type": "code",
   "execution_count": null,
   "metadata": {},
   "outputs": [],
   "source": [
    "%%javascript\n",
    "let contenedor_1 =  document.getElementById(\"contenedor-1\");\n",
    "let elemento_1 = document.getElementById(\"ejemplo-1\");\n",
    "let parrafo = document.createElement(\"p\");\n",
    "parrafo.textContent = elemento_1.innerHTML;                                          \n",
    "contenedor_1.appendChild(parrafo);"
   ]
  },
  {
   "cell_type": "code",
   "execution_count": null,
   "metadata": {},
   "outputs": [],
   "source": [
    "%%html\n",
    "<div id=\"contenedor-2\">\n",
    "  <div id=\"ejemplo-2\">Texto de ejemplo <b>con efectos</b> y <i>más efectos.</i></div>\n",
    "<div>"
   ]
  },
  {
   "cell_type": "code",
   "execution_count": null,
   "metadata": {},
   "outputs": [],
   "source": [
    "%%javascript\n",
    "let contenedor_2 =  document.getElementById(\"contenedor-2\");\n",
    "let elemento_2 = document.getElementById(\"ejemplo-2\");\n",
    "let hijos = elemento_2.children;\n",
    "for (let item in hijos) {\n",
    "    let parrafo = document.createElement(\"p\");\n",
    "    parrafo.textContent = \"Elemento: \" + hijos[item].nodeName + \", texto: \" + hijos[item].textContent;                                          \n",
    "    contenedor_2.appendChild(parrafo);\n",
    "}"
   ]
  },
  {
   "cell_type": "markdown",
   "metadata": {},
   "source": [
    "## Creación de un elemento.\n",
    "\n",
    "Es posible crear un elemento mendiante el método ```document.createElement()```, indicando el tipo de elemento mediante el nombre de su etiqueta."
   ]
  },
  {
   "cell_type": "markdown",
   "metadata": {},
   "source": [
    "**Ejemplo:**\n",
    "\n",
    "* Se creará un elemento de tipo ```p``` y se asignará a la variable ```parrafo```."
   ]
  },
  {
   "cell_type": "code",
   "execution_count": null,
   "metadata": {},
   "outputs": [],
   "source": [
    "%%html\n",
    "<div id=\"contenedor-3\">\n",
    "  <div id=\"ejemplo-3\"></div>\n",
    "<div>"
   ]
  },
  {
   "cell_type": "code",
   "execution_count": null,
   "metadata": {},
   "outputs": [],
   "source": [
    "%%javascript\n",
    "let ejemplo_3 = document.getElementById(\"ejemplo-3\");\n",
    "let parrafo = document.createElement(\"p\");\n",
    "parrafo.textContent=\"Hola, Mundo.\"\n",
    "ejemplo_3.append(parrafo);"
   ]
  },
  {
   "cell_type": "markdown",
   "metadata": {},
   "source": [
    "## Métodos de acceso a elementos emanado de ```document```.\n",
    " \n",
    "* ```getElementsByTagName()```, el cual regresa un arreglo con todos los elementos con el tipo de etiqueta ingresada como argumento.\n",
    "* ```getElementsByName()```, el cual regresa un arreglo con todos los elementos con el nombre ingresado como argumento.\n",
    "* ```getElementById()```, el cual regresa al elmentos cuyo valor del atributo ```id``` coincida con la cadena de caravteres ingresada como argumento.\n",
    "* ```getElementsByClassName()```, el cual regresa un arrgelo con todos los elementos cuyo valro del atributo ```class``` coincida con la cadena de caracteres ingresada como argumento."
   ]
  },
  {
   "cell_type": "markdown",
   "metadata": {},
   "source": [
    "<p style=\"text-align: center\"><a rel=\"license\" href=\"http://creativecommons.org/licenses/by/4.0/\"><img alt=\"Licencia Creative Commons\" style=\"border-width:0\" src=\"https://i.creativecommons.org/l/by/4.0/80x15.png\" /></a><br />Esta obra está bajo una <a rel=\"license\" href=\"http://creativecommons.org/licenses/by/4.0/\">Licencia Creative Commons Atribución 4.0 Internacional</a>.</p>\n",
    "<p style=\"text-align: center\">&copy; José Luis Chiquete Valdivieso. 2022.</p>"
   ]
  }
 ],
 "metadata": {
  "kernelspec": {
   "display_name": "Python 3 (ipykernel)",
   "language": "python",
   "name": "python3"
  },
  "language_info": {
   "codemirror_mode": {
    "name": "ipython",
    "version": 3
   },
   "file_extension": ".py",
   "mimetype": "text/x-python",
   "name": "python",
   "nbconvert_exporter": "python",
   "pygments_lexer": "ipython3",
   "version": "3.8.8"
  }
 },
 "nbformat": 4,
 "nbformat_minor": 2
}
